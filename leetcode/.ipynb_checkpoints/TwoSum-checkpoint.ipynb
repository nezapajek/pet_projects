{
 "cells": [
  {
   "cell_type": "markdown",
   "id": "de1fbb6b",
   "metadata": {},
   "source": [
    "Input: nums = [2,7,11,15], target = 9 \\\n",
    "Output: [0,1] \\\n",
    "Explanation: Because nums[0] + nums[1] == 9, we return [0, 1].\n",
    "\n",
    "You can return the answer in any order."
   ]
  },
  {
   "cell_type": "code",
   "execution_count": 8,
   "id": "e813fd67",
   "metadata": {},
   "outputs": [],
   "source": [
    "nums = [2,7,11,15]\n",
    "target = 9"
   ]
  },
  {
   "cell_type": "code",
   "execution_count": 19,
   "id": "e1199d9a",
   "metadata": {},
   "outputs": [
    {
     "data": {
      "text/plain": [
       "[0, 1]"
      ]
     },
     "execution_count": 19,
     "metadata": {},
     "output_type": "execute_result"
    }
   ],
   "source": [
    "# using nested for loops (time consuming)\n",
    "class Solution:\n",
    "    def twoSum(self, nums, target) -> []:\n",
    "        for i in range(len(nums)):\n",
    "            for j in range(i+1, (len(nums))):\n",
    "                if nums[i] + nums[i+1] == target:\n",
    "                    return [i, j]\n",
    "                \n",
    "Solution().twoSum(nums, target)"
   ]
  },
  {
   "cell_type": "code",
   "execution_count": 17,
   "id": "4d9b3c3e",
   "metadata": {},
   "outputs": [
    {
     "data": {
      "text/plain": [
       "[1, 0]"
      ]
     },
     "execution_count": 17,
     "metadata": {},
     "output_type": "execute_result"
    }
   ],
   "source": [
    "# using hash map\n",
    "class Solution:\n",
    "    def twoSum(self, nums, target) -> []:\n",
    "        hmap = {}\n",
    "        for i in range(len(nums)):\n",
    "            if nums[i] in hmap:\n",
    "                return [i, hmap[nums[i]]]\n",
    "            else:\n",
    "                hmap[target - nums[i]] = i\n",
    "                \n",
    "Solution().twoSum(nums, target)"
   ]
  }
 ],
 "metadata": {
  "kernelspec": {
   "display_name": "Python 3 (ipykernel)",
   "language": "python",
   "name": "python3"
  },
  "language_info": {
   "codemirror_mode": {
    "name": "ipython",
    "version": 3
   },
   "file_extension": ".py",
   "mimetype": "text/x-python",
   "name": "python",
   "nbconvert_exporter": "python",
   "pygments_lexer": "ipython3",
   "version": "3.9.12"
  }
 },
 "nbformat": 4,
 "nbformat_minor": 5
}
