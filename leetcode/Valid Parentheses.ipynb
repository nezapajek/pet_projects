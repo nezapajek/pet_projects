{
 "cells": [
  {
   "cell_type": "markdown",
   "id": "981c3f8c",
   "metadata": {},
   "source": [
    "Given a string s containing just the characters '(', ')', '{', '}', '[' and ']', determine if the input string is valid.\n",
    "\n",
    "An input string is valid if:\n",
    "\n",
    "Open brackets must be closed by the same type of brackets.  \\\n",
    "Open brackets must be closed in the correct order. \\\n",
    "Every close bracket has a corresponding open bracket of the same type. \n",
    "\n",
    "Input: s = \"()[]{}\" \\\n",
    "Output: true\n",
    "\n",
    "Input: s = \"(]\" \\\n",
    "Output: false"
   ]
  },
  {
   "cell_type": "code",
   "execution_count": 34,
   "id": "8bcad746",
   "metadata": {},
   "outputs": [],
   "source": [
    "s = \"()[]{}\""
   ]
  },
  {
   "cell_type": "markdown",
   "id": "f64ed238",
   "metadata": {},
   "source": [
    "pop() method removes the last element from an array and returns that element"
   ]
  },
  {
   "cell_type": "code",
   "execution_count": 35,
   "id": "16e89464",
   "metadata": {},
   "outputs": [],
   "source": [
    "# using hash map\n",
    "class Solution:\n",
    "    def isValid(self, s: str) -> bool:\n",
    "        stack = []\n",
    "        h_map = {')' : '(', \n",
    "                ']' : '[', \n",
    "                '}' : '{'}\n",
    "        for char in s:\n",
    "            if char in h_map:\n",
    "                if stack and stack[-1] == h_map[char]:\n",
    "                    stack.pop()\n",
    "                else: \n",
    "                    return False\n",
    "            else:\n",
    "                stack.append(char)\n",
    "        return True if not stack else False\n",
    "                "
   ]
  },
  {
   "cell_type": "code",
   "execution_count": 36,
   "id": "b07d1009",
   "metadata": {},
   "outputs": [
    {
     "data": {
      "text/plain": [
       "True"
      ]
     },
     "execution_count": 36,
     "metadata": {},
     "output_type": "execute_result"
    }
   ],
   "source": [
    "Solution().isValid(s)"
   ]
  }
 ],
 "metadata": {
  "kernelspec": {
   "display_name": "Python 3 (ipykernel)",
   "language": "python",
   "name": "python3"
  },
  "language_info": {
   "codemirror_mode": {
    "name": "ipython",
    "version": 3
   },
   "file_extension": ".py",
   "mimetype": "text/x-python",
   "name": "python",
   "nbconvert_exporter": "python",
   "pygments_lexer": "ipython3",
   "version": "3.9.12"
  }
 },
 "nbformat": 4,
 "nbformat_minor": 5
}
