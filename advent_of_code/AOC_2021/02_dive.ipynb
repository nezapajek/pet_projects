{
 "cells": [
  {
   "cell_type": "markdown",
   "id": "c8219891",
   "metadata": {},
   "source": [
    "# ADVENT OF CODE - DAY 2 - Dive\n",
    "### Part 1"
   ]
  },
  {
   "cell_type": "markdown",
   "id": "f275464e",
   "metadata": {},
   "source": [
    "forward X increases the horizontal position by X units.\n",
    "down X increases the depth by X units.\n",
    "up X decreases the depth by X units.\n",
    "Note that since you're on a submarine, down and up affect your depth, and so they have the opposite result of what you might expect.\n",
    "\n",
    "The submarine seems to already have a planned course (your puzzle input). You should probably figure out where it's going."
   ]
  },
  {
   "cell_type": "code",
   "execution_count": 1,
   "id": "649dd972",
   "metadata": {},
   "outputs": [],
   "source": [
    "import numpy as np\n",
    "import pandas as pd"
   ]
  },
  {
   "cell_type": "code",
   "execution_count": 2,
   "id": "dc93c23e",
   "metadata": {},
   "outputs": [],
   "source": [
    "filename = '02_input.txt'\n",
    "directions = np.loadtxt(filename, dtype= str)"
   ]
  },
  {
   "cell_type": "code",
   "execution_count": 3,
   "id": "b1f42795",
   "metadata": {},
   "outputs": [
    {
     "data": {
      "text/html": [
       "<div>\n",
       "<style scoped>\n",
       "    .dataframe tbody tr th:only-of-type {\n",
       "        vertical-align: middle;\n",
       "    }\n",
       "\n",
       "    .dataframe tbody tr th {\n",
       "        vertical-align: top;\n",
       "    }\n",
       "\n",
       "    .dataframe thead th {\n",
       "        text-align: right;\n",
       "    }\n",
       "</style>\n",
       "<table border=\"1\" class=\"dataframe\">\n",
       "  <thead>\n",
       "    <tr style=\"text-align: right;\">\n",
       "      <th></th>\n",
       "      <th>direction</th>\n",
       "      <th>value</th>\n",
       "    </tr>\n",
       "  </thead>\n",
       "  <tbody>\n",
       "    <tr>\n",
       "      <th>0</th>\n",
       "      <td>forward</td>\n",
       "      <td>4</td>\n",
       "    </tr>\n",
       "    <tr>\n",
       "      <th>1</th>\n",
       "      <td>down</td>\n",
       "      <td>9</td>\n",
       "    </tr>\n",
       "    <tr>\n",
       "      <th>2</th>\n",
       "      <td>forward</td>\n",
       "      <td>6</td>\n",
       "    </tr>\n",
       "    <tr>\n",
       "      <th>3</th>\n",
       "      <td>down</td>\n",
       "      <td>5</td>\n",
       "    </tr>\n",
       "    <tr>\n",
       "      <th>4</th>\n",
       "      <td>up</td>\n",
       "      <td>2</td>\n",
       "    </tr>\n",
       "    <tr>\n",
       "      <th>...</th>\n",
       "      <td>...</td>\n",
       "      <td>...</td>\n",
       "    </tr>\n",
       "    <tr>\n",
       "      <th>995</th>\n",
       "      <td>forward</td>\n",
       "      <td>6</td>\n",
       "    </tr>\n",
       "    <tr>\n",
       "      <th>996</th>\n",
       "      <td>forward</td>\n",
       "      <td>6</td>\n",
       "    </tr>\n",
       "    <tr>\n",
       "      <th>997</th>\n",
       "      <td>up</td>\n",
       "      <td>2</td>\n",
       "    </tr>\n",
       "    <tr>\n",
       "      <th>998</th>\n",
       "      <td>down</td>\n",
       "      <td>8</td>\n",
       "    </tr>\n",
       "    <tr>\n",
       "      <th>999</th>\n",
       "      <td>forward</td>\n",
       "      <td>5</td>\n",
       "    </tr>\n",
       "  </tbody>\n",
       "</table>\n",
       "<p>1000 rows × 2 columns</p>\n",
       "</div>"
      ],
      "text/plain": [
       "    direction value\n",
       "0     forward     4\n",
       "1        down     9\n",
       "2     forward     6\n",
       "3        down     5\n",
       "4          up     2\n",
       "..        ...   ...\n",
       "995   forward     6\n",
       "996   forward     6\n",
       "997        up     2\n",
       "998      down     8\n",
       "999   forward     5\n",
       "\n",
       "[1000 rows x 2 columns]"
      ]
     },
     "execution_count": 3,
     "metadata": {},
     "output_type": "execute_result"
    }
   ],
   "source": [
    "df = pd.DataFrame(directions)\n",
    "df.columns=['direction', 'value']\n",
    "df"
   ]
  },
  {
   "cell_type": "code",
   "execution_count": 4,
   "id": "c4ecf7e0",
   "metadata": {},
   "outputs": [
    {
     "data": {
      "text/plain": [
       "direction     object\n",
       "value        float64\n",
       "dtype: object"
      ]
     },
     "execution_count": 4,
     "metadata": {},
     "output_type": "execute_result"
    }
   ],
   "source": [
    "df['value'] = df['value'].astype(float)\n",
    "df.dtypes"
   ]
  },
  {
   "cell_type": "code",
   "execution_count": 5,
   "id": "ee899053",
   "metadata": {},
   "outputs": [],
   "source": [
    "df_F = df.groupby('direction')\n",
    "df_S = df_F.sum()"
   ]
  },
  {
   "cell_type": "code",
   "execution_count": 6,
   "id": "a0851e4d",
   "metadata": {},
   "outputs": [
    {
     "data": {
      "text/plain": [
       "direction\n",
       "down       1964.0\n",
       "forward    1905.0\n",
       "up         1057.0\n",
       "Name: value, dtype: float64"
      ]
     },
     "execution_count": 6,
     "metadata": {},
     "output_type": "execute_result"
    }
   ],
   "source": [
    "result = df_S.transpose().iloc[0]\n",
    "result"
   ]
  },
  {
   "cell_type": "code",
   "execution_count": 28,
   "id": "27fdb0fa",
   "metadata": {},
   "outputs": [
    {
     "data": {
      "text/plain": [
       "1727835.0"
      ]
     },
     "execution_count": 28,
     "metadata": {},
     "output_type": "execute_result"
    }
   ],
   "source": [
    "(result.down - result.up) * result.forward"
   ]
  },
  {
   "cell_type": "code",
   "execution_count": 29,
   "id": "081619ef",
   "metadata": {
    "scrolled": true
   },
   "outputs": [
    {
     "data": {
      "text/plain": [
       "value    1727835.0\n",
       "dtype: float64"
      ]
     },
     "execution_count": 29,
     "metadata": {},
     "output_type": "execute_result"
    }
   ],
   "source": [
    "df_S.transpose().eval('(down-up)*forward')"
   ]
  },
  {
   "cell_type": "markdown",
   "id": "2afd2de2",
   "metadata": {},
   "source": [
    "### Part 2"
   ]
  },
  {
   "cell_type": "markdown",
   "id": "b0544f04",
   "metadata": {},
   "source": [
    "In addition to horizontal position and depth, you'll also need to track a third value, aim, which also starts at 0. The commands also mean something entirely different than you first thought:\n",
    "\n",
    "down X increases your aim by X units.\n",
    "up X decreases your aim by X units.\n",
    "forward X does two things:\n",
    "It increases your horizontal position by X units.\n",
    "It increases your depth by your aim multiplied by X.\n",
    "Again note that since you're on a submarine, down and up do the opposite of what you might expect: \"down\" means aiming in the positive direction.\n",
    "\n",
    "Using this new interpretation of the commands, calculate the horizontal position and depth you would have after following the planned course. What do you get if you multiply your final horizontal position by your final depth?"
   ]
  },
  {
   "cell_type": "code",
   "execution_count": 10,
   "id": "3fe0c18b",
   "metadata": {},
   "outputs": [],
   "source": [
    "dirvec = df.direction.values\n",
    "valvec = df.value.values"
   ]
  },
  {
   "cell_type": "code",
   "execution_count": 11,
   "id": "aa64f142",
   "metadata": {},
   "outputs": [
    {
     "data": {
      "text/html": [
       "<div>\n",
       "<style scoped>\n",
       "    .dataframe tbody tr th:only-of-type {\n",
       "        vertical-align: middle;\n",
       "    }\n",
       "\n",
       "    .dataframe tbody tr th {\n",
       "        vertical-align: top;\n",
       "    }\n",
       "\n",
       "    .dataframe thead th {\n",
       "        text-align: right;\n",
       "    }\n",
       "</style>\n",
       "<table border=\"1\" class=\"dataframe\">\n",
       "  <thead>\n",
       "    <tr style=\"text-align: right;\">\n",
       "      <th></th>\n",
       "      <th>direction</th>\n",
       "      <th>value</th>\n",
       "      <th>aim</th>\n",
       "    </tr>\n",
       "  </thead>\n",
       "  <tbody>\n",
       "    <tr>\n",
       "      <th>0</th>\n",
       "      <td>forward</td>\n",
       "      <td>5</td>\n",
       "      <td></td>\n",
       "    </tr>\n",
       "    <tr>\n",
       "      <th>1</th>\n",
       "      <td>down</td>\n",
       "      <td>5</td>\n",
       "      <td></td>\n",
       "    </tr>\n",
       "    <tr>\n",
       "      <th>2</th>\n",
       "      <td>forward</td>\n",
       "      <td>8</td>\n",
       "      <td></td>\n",
       "    </tr>\n",
       "    <tr>\n",
       "      <th>3</th>\n",
       "      <td>up</td>\n",
       "      <td>3</td>\n",
       "      <td></td>\n",
       "    </tr>\n",
       "    <tr>\n",
       "      <th>4</th>\n",
       "      <td>down</td>\n",
       "      <td>8</td>\n",
       "      <td></td>\n",
       "    </tr>\n",
       "    <tr>\n",
       "      <th>5</th>\n",
       "      <td>forward</td>\n",
       "      <td>2</td>\n",
       "      <td></td>\n",
       "    </tr>\n",
       "  </tbody>\n",
       "</table>\n",
       "</div>"
      ],
      "text/plain": [
       "  direction  value aim\n",
       "0   forward      5    \n",
       "1      down      5    \n",
       "2   forward      8    \n",
       "3        up      3    \n",
       "4      down      8    \n",
       "5   forward      2    "
      ]
     },
     "execution_count": 11,
     "metadata": {},
     "output_type": "execute_result"
    }
   ],
   "source": [
    "testdata = [['forward', 5], ['down', 5], ['forward', 8], ['up', 3], ['down', 8], ['forward', 2]]\n",
    "testdf = pd.DataFrame(testdata, columns = ['direction', 'value'])\n",
    "testdf['aim'] = ''\n",
    "testdf"
   ]
  },
  {
   "cell_type": "code",
   "execution_count": 12,
   "id": "4574c7c0",
   "metadata": {},
   "outputs": [],
   "source": [
    "tdirvec = testdf.direction.values\n",
    "tvalvec = testdf.value.values"
   ]
  },
  {
   "cell_type": "code",
   "execution_count": 13,
   "id": "c9ff70fc",
   "metadata": {},
   "outputs": [],
   "source": [
    "aim_array = []\n",
    "aim = 0\n",
    "for idx, row in testdf.iterrows():\n",
    "    if row.direction == 'forward':\n",
    "        pass\n",
    "    elif row.direction == 'up':\n",
    "        aim = aim - row.value\n",
    "    else: \n",
    "        aim = aim + row.value\n",
    "\n",
    "    aim_array.append(aim)"
   ]
  },
  {
   "cell_type": "code",
   "execution_count": 14,
   "id": "0c2ad442",
   "metadata": {},
   "outputs": [
    {
     "data": {
      "text/plain": [
       "[0, 5, 5, 2, 10, 10]"
      ]
     },
     "execution_count": 14,
     "metadata": {},
     "output_type": "execute_result"
    }
   ],
   "source": [
    "aim_array"
   ]
  },
  {
   "cell_type": "code",
   "execution_count": 15,
   "id": "5d7096b3",
   "metadata": {},
   "outputs": [],
   "source": [
    "testdf['aim'] = aim_array"
   ]
  },
  {
   "cell_type": "code",
   "execution_count": 16,
   "id": "5d678360",
   "metadata": {},
   "outputs": [
    {
     "data": {
      "text/plain": [
       "[0, 0, 40, 40, 40, 60]"
      ]
     },
     "execution_count": 16,
     "metadata": {},
     "output_type": "execute_result"
    }
   ],
   "source": [
    "depth_array = []\n",
    "depth = 0\n",
    "for idx, row in testdf.iterrows():\n",
    "    if row.direction == 'forward':\n",
    "        depth = depth + row.value * row.aim\n",
    "    else: \n",
    "        pass\n",
    "\n",
    "    depth_array.append(depth)\n",
    "\n",
    "depth_array"
   ]
  },
  {
   "cell_type": "code",
   "execution_count": 17,
   "id": "1d18a551",
   "metadata": {},
   "outputs": [
    {
     "data": {
      "text/plain": [
       "[5, 5, 13, 13, 13, 15]"
      ]
     },
     "execution_count": 17,
     "metadata": {},
     "output_type": "execute_result"
    }
   ],
   "source": [
    "forward_array = []\n",
    "forward = 0\n",
    "for idx, row in testdf.iterrows():\n",
    "    if row.direction == 'forward':\n",
    "        forward += row.value\n",
    "    else:\n",
    "        pass\n",
    "\n",
    "    forward_array.append(forward)\n",
    "\n",
    "forward_array"
   ]
  },
  {
   "cell_type": "code",
   "execution_count": 18,
   "id": "aa003926",
   "metadata": {},
   "outputs": [
    {
     "data": {
      "text/html": [
       "<div>\n",
       "<style scoped>\n",
       "    .dataframe tbody tr th:only-of-type {\n",
       "        vertical-align: middle;\n",
       "    }\n",
       "\n",
       "    .dataframe tbody tr th {\n",
       "        vertical-align: top;\n",
       "    }\n",
       "\n",
       "    .dataframe thead th {\n",
       "        text-align: right;\n",
       "    }\n",
       "</style>\n",
       "<table border=\"1\" class=\"dataframe\">\n",
       "  <thead>\n",
       "    <tr style=\"text-align: right;\">\n",
       "      <th></th>\n",
       "      <th>direction</th>\n",
       "      <th>value</th>\n",
       "      <th>aim</th>\n",
       "      <th>depth</th>\n",
       "      <th>forward</th>\n",
       "    </tr>\n",
       "  </thead>\n",
       "  <tbody>\n",
       "    <tr>\n",
       "      <th>0</th>\n",
       "      <td>forward</td>\n",
       "      <td>5</td>\n",
       "      <td>0</td>\n",
       "      <td>0</td>\n",
       "      <td>5</td>\n",
       "    </tr>\n",
       "    <tr>\n",
       "      <th>1</th>\n",
       "      <td>down</td>\n",
       "      <td>5</td>\n",
       "      <td>5</td>\n",
       "      <td>0</td>\n",
       "      <td>5</td>\n",
       "    </tr>\n",
       "    <tr>\n",
       "      <th>2</th>\n",
       "      <td>forward</td>\n",
       "      <td>8</td>\n",
       "      <td>5</td>\n",
       "      <td>40</td>\n",
       "      <td>13</td>\n",
       "    </tr>\n",
       "    <tr>\n",
       "      <th>3</th>\n",
       "      <td>up</td>\n",
       "      <td>3</td>\n",
       "      <td>2</td>\n",
       "      <td>40</td>\n",
       "      <td>13</td>\n",
       "    </tr>\n",
       "    <tr>\n",
       "      <th>4</th>\n",
       "      <td>down</td>\n",
       "      <td>8</td>\n",
       "      <td>10</td>\n",
       "      <td>40</td>\n",
       "      <td>13</td>\n",
       "    </tr>\n",
       "    <tr>\n",
       "      <th>5</th>\n",
       "      <td>forward</td>\n",
       "      <td>2</td>\n",
       "      <td>10</td>\n",
       "      <td>60</td>\n",
       "      <td>15</td>\n",
       "    </tr>\n",
       "  </tbody>\n",
       "</table>\n",
       "</div>"
      ],
      "text/plain": [
       "  direction  value  aim  depth  forward\n",
       "0   forward      5    0      0        5\n",
       "1      down      5    5      0        5\n",
       "2   forward      8    5     40       13\n",
       "3        up      3    2     40       13\n",
       "4      down      8   10     40       13\n",
       "5   forward      2   10     60       15"
      ]
     },
     "execution_count": 18,
     "metadata": {},
     "output_type": "execute_result"
    }
   ],
   "source": [
    "testdf['depth'] = depth_array\n",
    "testdf['forward'] = forward_array\n",
    "testdf"
   ]
  },
  {
   "cell_type": "code",
   "execution_count": 19,
   "id": "60322810",
   "metadata": {},
   "outputs": [
    {
     "data": {
      "text/plain": [
       "900"
      ]
     },
     "execution_count": 19,
     "metadata": {},
     "output_type": "execute_result"
    }
   ],
   "source": [
    "testdf.forward[5]*testdf.depth[5]"
   ]
  },
  {
   "cell_type": "markdown",
   "id": "449408f9",
   "metadata": {},
   "source": [
    "real data"
   ]
  },
  {
   "cell_type": "code",
   "execution_count": 20,
   "id": "75239afc",
   "metadata": {},
   "outputs": [],
   "source": [
    "aim_array = []\n",
    "aim = 0\n",
    "for idx, row in df.iterrows():\n",
    "    if row.direction == 'forward':\n",
    "        pass\n",
    "    elif row.direction == 'up':\n",
    "        aim = aim - row.value\n",
    "    else: \n",
    "        aim = aim + row.value\n",
    "\n",
    "    aim_array.append(aim)\n",
    "    \n",
    "df['aim'] = aim_array"
   ]
  },
  {
   "cell_type": "code",
   "execution_count": 21,
   "id": "372cff6d",
   "metadata": {},
   "outputs": [],
   "source": [
    "depth_array = []\n",
    "depth = 0\n",
    "for idx, row in df.iterrows():\n",
    "    if row.direction == 'forward':\n",
    "        depth = depth + row.value * row.aim\n",
    "    else: \n",
    "        pass\n",
    "\n",
    "    depth_array.append(depth)\n",
    "\n",
    "df['depth'] = depth_array"
   ]
  },
  {
   "cell_type": "code",
   "execution_count": 22,
   "id": "03423fcd",
   "metadata": {},
   "outputs": [],
   "source": [
    "forward_array = []\n",
    "forward = 0\n",
    "for idx, row in df.iterrows():\n",
    "    if row.direction == 'forward':\n",
    "        forward += row.value\n",
    "    else:\n",
    "        pass\n",
    "\n",
    "    forward_array.append(forward)\n",
    "\n",
    "df['forward'] = forward_array"
   ]
  },
  {
   "cell_type": "code",
   "execution_count": 23,
   "id": "4fea835f",
   "metadata": {},
   "outputs": [
    {
     "data": {
      "text/plain": [
       "1544000595.0"
      ]
     },
     "execution_count": 23,
     "metadata": {},
     "output_type": "execute_result"
    }
   ],
   "source": [
    "df.forward[999]*df.depth[999]"
   ]
  },
  {
   "cell_type": "code",
   "execution_count": 24,
   "id": "137c79c6",
   "metadata": {},
   "outputs": [
    {
     "data": {
      "text/plain": [
       "3629025.0"
      ]
     },
     "execution_count": 24,
     "metadata": {},
     "output_type": "execute_result"
    }
   ],
   "source": [
    "df.forward.values[-1]*df.forward.values[-1]"
   ]
  },
  {
   "cell_type": "code",
   "execution_count": 25,
   "id": "4d335852",
   "metadata": {},
   "outputs": [
    {
     "data": {
      "text/plain": [
       "1544000595.0"
      ]
     },
     "execution_count": 25,
     "metadata": {},
     "output_type": "execute_result"
    }
   ],
   "source": [
    "#get last row\n",
    "row = df.iloc[-1]\n",
    "row.depth * row.forward"
   ]
  }
 ],
 "metadata": {
  "kernelspec": {
   "display_name": "Python 3 (ipykernel)",
   "language": "python",
   "name": "python3"
  },
  "language_info": {
   "codemirror_mode": {
    "name": "ipython",
    "version": 3
   },
   "file_extension": ".py",
   "mimetype": "text/x-python",
   "name": "python",
   "nbconvert_exporter": "python",
   "pygments_lexer": "ipython3",
   "version": "3.9.12"
  }
 },
 "nbformat": 4,
 "nbformat_minor": 5
}
