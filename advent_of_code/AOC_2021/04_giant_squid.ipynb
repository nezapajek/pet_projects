{
 "cells": [
  {
   "cell_type": "markdown",
   "id": "a13be9c7",
   "metadata": {},
   "source": [
    "# ADVENT OF CODE - DAY 4 - Giant Squid \n",
    "### Part 1"
   ]
  },
  {
   "cell_type": "code",
   "execution_count": 1,
   "id": "6afc8a14",
   "metadata": {},
   "outputs": [],
   "source": [
    "import pandas as pd\n",
    "import numpy as np\n",
    "import re"
   ]
  },
  {
   "cell_type": "code",
   "execution_count": 2,
   "id": "051b9447",
   "metadata": {},
   "outputs": [],
   "source": [
    "def prepare_dataset(filename):\n",
    "    numbers_str, *boards_str = open(filename).read().split('\\n\\n')\n",
    "    numbers = np.array(numbers_str.split(','), dtype= 'int')\n",
    "    boards = [np.array([re.split('\\s+', el.strip()) for el in temp.split('\\n')], dtype='int') for temp in boards_str]\n",
    "    return numbers, boards"
   ]
  },
  {
   "cell_type": "code",
   "execution_count": 3,
   "id": "2ca6f4c5",
   "metadata": {},
   "outputs": [],
   "source": [
    "numbers, boards = prepare_dataset('04_input.txt')"
   ]
  },
  {
   "cell_type": "code",
   "execution_count": 4,
   "id": "89d8fee8",
   "metadata": {},
   "outputs": [],
   "source": [
    "def is_bingo(matrix):\n",
    "    if any(np.all(matrix, axis=0)) or any(np.all(matrix, axis=1)):\n",
    "        return True\n",
    "    else:\n",
    "        return False"
   ]
  },
  {
   "cell_type": "code",
   "execution_count": 5,
   "id": "555d4e5f",
   "metadata": {},
   "outputs": [],
   "source": [
    "def play_bingo(numbers, boards):\n",
    "    marks = [np.zeros_like(board) for board in boards]\n",
    "    for n in numbers:\n",
    "        for idx in range(0, len(boards)):\n",
    "            mask = boards[idx] == n\n",
    "            marks[idx][mask] = 1\n",
    "            if is_bingo(marks[idx]):\n",
    "                unused_numbers_mask = marks[idx] == 0\n",
    "                return sum(boards[idx][unused_numbers_mask])*n"
   ]
  },
  {
   "cell_type": "code",
   "execution_count": 6,
   "id": "e5ae9b50",
   "metadata": {},
   "outputs": [
    {
     "data": {
      "text/plain": [
       "35670"
      ]
     },
     "execution_count": 6,
     "metadata": {},
     "output_type": "execute_result"
    }
   ],
   "source": [
    "play_bingo(numbers, boards)"
   ]
  },
  {
   "cell_type": "markdown",
   "id": "346afa2d",
   "metadata": {},
   "source": [
    "### Part 2"
   ]
  },
  {
   "cell_type": "code",
   "execution_count": 7,
   "id": "6c1647fa",
   "metadata": {},
   "outputs": [],
   "source": [
    "def play_bingo_last(numbers, boards):\n",
    "    marks = [np.zeros_like(board) for board in boards]\n",
    "    bingo_winners = set()\n",
    "    for n in numbers:\n",
    "        for idx in range(0, len(boards)):\n",
    "            mask = boards[idx] == n\n",
    "            marks[idx][mask] = 1\n",
    "            if is_bingo(marks[idx]):\n",
    "                bingo_winners.add(idx) #set je list unique el\n",
    "                if len(bingo_winners) == len(boards):\n",
    "                    unused_numbers_mask = marks[idx] == 0\n",
    "                    return sum(boards[idx][unused_numbers_mask])* n"
   ]
  },
  {
   "cell_type": "code",
   "execution_count": 8,
   "id": "8c9277a3",
   "metadata": {},
   "outputs": [
    {
     "data": {
      "text/plain": [
       "22704"
      ]
     },
     "execution_count": 8,
     "metadata": {},
     "output_type": "execute_result"
    }
   ],
   "source": [
    "play_bingo_last(numbers, boards)"
   ]
  }
 ],
 "metadata": {
  "kernelspec": {
   "display_name": "Python 3 (ipykernel)",
   "language": "python",
   "name": "python3"
  },
  "language_info": {
   "codemirror_mode": {
    "name": "ipython",
    "version": 3
   },
   "file_extension": ".py",
   "mimetype": "text/x-python",
   "name": "python",
   "nbconvert_exporter": "python",
   "pygments_lexer": "ipython3",
   "version": "3.9.12"
  }
 },
 "nbformat": 4,
 "nbformat_minor": 5
}
