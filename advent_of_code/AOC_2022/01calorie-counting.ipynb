{
 "cells": [
  {
   "cell_type": "markdown",
   "id": "6291a78e",
   "metadata": {},
   "source": [
    "# AOC - Day one"
   ]
  },
  {
   "cell_type": "code",
   "execution_count": 9,
   "id": "20083851",
   "metadata": {},
   "outputs": [],
   "source": [
    "import numpy as np"
   ]
  },
  {
   "cell_type": "code",
   "execution_count": 10,
   "id": "3d055a93",
   "metadata": {},
   "outputs": [],
   "source": [
    "# import data\n",
    "# filename = '01_test.txt'\n",
    "filename = '01_data.txt'\n",
    "data = open(f'./data/{filename}').read()"
   ]
  },
  {
   "cell_type": "code",
   "execution_count": 11,
   "id": "8cd29bc3",
   "metadata": {},
   "outputs": [],
   "source": [
    "# define data process function\n",
    "def process(data):\n",
    "    data = [np.array(d.split('\\n'), dtype=int) for d in data.split('\\n\\n')]\n",
    "    return data\n",
    "\n",
    "data = process(data)"
   ]
  },
  {
   "cell_type": "markdown",
   "id": "c139c7c1",
   "metadata": {},
   "source": [
    "### Part 1"
   ]
  },
  {
   "cell_type": "code",
   "execution_count": 15,
   "id": "df4f984d",
   "metadata": {},
   "outputs": [
    {
     "data": {
      "text/plain": [
       "69310"
      ]
     },
     "execution_count": 15,
     "metadata": {},
     "output_type": "execute_result"
    }
   ],
   "source": [
    "# list comprehension for sum of \n",
    "cal_sum = np.array([np.sum(d) for d in data])\n",
    "\n",
    "# find max value\n",
    "result1 = cal_sum[np.argmax(cal_sum)]\n",
    "result1"
   ]
  },
  {
   "cell_type": "markdown",
   "id": "57aeb36a",
   "metadata": {},
   "source": [
    "### Part 2"
   ]
  },
  {
   "cell_type": "code",
   "execution_count": 14,
   "id": "04581395",
   "metadata": {},
   "outputs": [
    {
     "data": {
      "text/plain": [
       "206104"
      ]
     },
     "execution_count": 14,
     "metadata": {},
     "output_type": "execute_result"
    }
   ],
   "source": [
    "# sort list in descending order, choose first three elements, calculate sum\n",
    "result2 = sum(np.sort(cal_sum)[::-1][0:3])\n",
    "result2"
   ]
  }
 ],
 "metadata": {
  "kernelspec": {
   "display_name": "Python 3 (ipykernel)",
   "language": "python",
   "name": "python3"
  },
  "language_info": {
   "codemirror_mode": {
    "name": "ipython",
    "version": 3
   },
   "file_extension": ".py",
   "mimetype": "text/x-python",
   "name": "python",
   "nbconvert_exporter": "python",
   "pygments_lexer": "ipython3",
   "version": "3.9.12"
  }
 },
 "nbformat": 4,
 "nbformat_minor": 5
}
