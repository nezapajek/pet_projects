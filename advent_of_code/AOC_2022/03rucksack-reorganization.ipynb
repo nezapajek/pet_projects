{
 "cells": [
  {
   "cell_type": "markdown",
   "id": "ecc415ec",
   "metadata": {},
   "source": [
    "### Day 3: Rucksack Reorganization"
   ]
  },
  {
   "cell_type": "code",
   "execution_count": 1,
   "id": "dafd5aa5",
   "metadata": {},
   "outputs": [],
   "source": [
    "# import data\n",
    "#filename = '03_test.txt'\n",
    "filename = '03_data.txt'\n",
    "data = open(f'./data/{filename}').read()"
   ]
  },
  {
   "cell_type": "code",
   "execution_count": 2,
   "id": "09981a6d",
   "metadata": {},
   "outputs": [],
   "source": [
    "# define data process function\n",
    "def process(data):\n",
    "    data = data.split('\\n')\n",
    "    return data\n",
    "\n",
    "# process data\n",
    "data = process(data)"
   ]
  },
  {
   "cell_type": "markdown",
   "id": "9f26c0e5",
   "metadata": {},
   "source": [
    "#### Part One"
   ]
  },
  {
   "cell_type": "code",
   "execution_count": 3,
   "id": "c0d10511",
   "metadata": {
    "collapsed": true
   },
   "outputs": [
    {
     "data": {
      "text/plain": [
       "[['lDDWVvlVVQfDMlW', 'jGJTRjQCgTGLCLj'],\n",
       " ['ZLZpwzLBhwZhSLBs', 'jntGCtgJRjbnJgSG'],\n",
       " ['qppdZzzsdsmZphrNsNwZh', 'llDHLcVVDWFPvFWcWdFlv'],\n",
       " ['ztdhgJDBJgh', 'mQtPFQPpmbw'],\n",
       " ['lVlLRcnfllcfVcccGnSQVLc', 'sTPFbpwsPFspTSqmbpswpbF'],\n",
       " ['cCHRGcGcCRGlGrGcVGnr', 'dWHWBDzBNhhQZWWNBhJz'],\n",
       " ['NfnSSQpdnRSSpvWdS', 'sjZDGNDjGDwTGTjHG'],\n",
       " ['wlPzPqzPFbMmqPCFCJm', 'bsjbHLDDHDZjDjbGHsT'],\n",
       " ['gwMlgmtmPcq', 'VVvhVnvcRnn'],\n",
       " ['cBNBBCHhbhNhblBcCCvcB', 'HSwTwDQSqRwDQpDRsjHST'],\n",
       " ['dPmzMVWdmmMnnZJtZVdq', 'jTSrjTjrpQrsTTVwQRSj'],\n",
       " ['qzmZMmdZPtnGq', 'clblGlbGvgBFc'],\n",
       " ['ZfpmNDfR', 'hzbbqDnD'],\n",
       " ['SFtFjTTZVTFvVTjHrsVv', 'qGBJqhnSSnbJznLGJwJq'],\n",
       " ['TjdPPtdM', 'PPWCcZgW'],\n",
       " ['qsbmGCsjHNhmhmh', 'zTDznpnlQZlbWlZ'],\n",
       " ['LTSSfSvggVVgBgfLtvvtTS', 'czzpWnZQZnlnzpBcnWpQWc'],\n",
       " ['FrLvrrrVPgdPftS', 'HHdNsjTHjmGThhm'],\n",
       " ['wGQlMjvMwpvjvZjZTZlWjplW', 'JJTggDTgfCnntPgTJPbtPgSP'],\n",
       " ['qNhJmcVmdJqh', 'HnPnDNtnPDCg'],\n",
       " ['LrrchqhRdLVzRdmhJc', 'FFQWGGMjpGlvZzlQQv'],\n",
       " ['ZqZMbZMf', 'QZptpjlF'],\n",
       " ['PJCggvHlwWHvSSvCJNvSPvDB', 'tFDQThFQjtRQhhFTsVThQtsF'],\n",
       " ['PwWCnBBCC', 'lcMMznMdG'],\n",
       " ['rNwwQJrJrnQswrQrRRwC', 'ShBSLndZpdnhpGFSdhBp'],\n",
       " ['PvzzWVzbcl', 'GFhLFGdZll'],\n",
       " ['VWjPWvbjcVbVcGVzjcgz', 'gwQQRRRrqwRJQwwstCRR'],\n",
       " ['zjBMMzznjbssrBrMBb', 'vHDmrlprlrpwGpwQDV'],\n",
       " ['LhRwPPTLLNRZqScPWPWPT', 'SmQvQQDGGdQHVDlmVpQGD'],\n",
       " ['NtfhNwhLLNwRwRNcT', 'BgnJMCBzsBFjsJfCz'],\n",
       " ['jZjsWNDl', 'PfClfMlM'],\n",
       " ['GjqbVSqjhgvgSVS', 'BCPmMmCmfpwTBfh'],\n",
       " ['nGbjqtqcG', 'zsLDFcJLs'],\n",
       " ['ZQtmZdtdQcLndRncdQQLFj', 'WWDHNPfhpnqhqsHNNDnpHs'],\n",
       " ['TrMBGbJTwwlm', 'DPPPWshWHfJq'],\n",
       " ['wmVzbrwbwvBlBlVG', 'tSVLSdFjdFtdjLVR'],\n",
       " ['LBhZFhRPbb', 'nPddMdPPlD'],\n",
       " ['NQszQNcz', 'lCSlJSsg'],\n",
       " ['mwmrVQwpQVWw', 'TlvBpHHHFhZj'],\n",
       " ['pzzDffWpQBzMpHvzMfR', 'nTNhZdrdBcnLrcdrTLZ'],\n",
       " ['msgJgtmbgmq', 'JJcdrGcJjGn'],\n",
       " ['bSVPgwntmVnng', 'QWvWSSMpMMHWH'],\n",
       " ['gmGMDHHdpngdrGmG', 'cwbNCCnNcbbCSLwL'],\n",
       " ['zQPPPffQQlVlsPFQFzQ', 'chZZbLZNVcbqbNqbZgq'],\n",
       " ['PRjQzfRgRfjQBTfJQTlPFR', 'HWmmvmWHGWrWvWWtjrdHpD'],\n",
       " ['vfrHfqrLfLwwNH', 'dvnthpnnFFpstn'],\n",
       " ['gWcMclgmcRcWgDMWgBgG', 'GFnntqQnGphdQhtbdFnh'],\n",
       " ['qRWmRDlcDqWBBP', 'wPNrZHrwSHjTfr'],\n",
       " ['HVVbhdCdndh', 'ZSShMzRrzSM'],\n",
       " ['qBjWqvtWvDJjTjjGJtJtnqBv', 'ZMrgSGZlgfSgSRrMQGQRMgMR'],\n",
       " ['wmwtJsvjtTJws', 'NnVsHpdnsHdds'],\n",
       " ['FCJNZDMPNCN', 'vzqQJHqzGqv'],\n",
       " ['hwjWcSTHwRpSW', 'nQtGgQgGStgQQ'],\n",
       " ['WpwhRHTRpcLRjwlwwTWBcWdl', 'FbCrsPrrLCMDrZCFsCDPrZPM'],\n",
       " ['DJjjShSGhGDSNdp', 'frWWcLFzrDWrDlF'],\n",
       " ['wtqZgwMBBPVMCBPQggMwqMM', 'zfLlWrWLLzsWcFzTzVTzLss'],\n",
       " ['tgtwQqZBQQZbBZtPg', 'bHpNJnJShcmJppSHh'],\n",
       " ['tHrWmrdzzdHflmHmHrSm', 'qswlqhqNgssMhGgghssn'],\n",
       " ['pJcCBPPQPCcPpRp', 'gwZNZBMnDhMsMBw'],\n",
       " ['RJCvRRVcQpjLpCJP', 'WrftWvSnrFffWbrz'],\n",
       " ['jzlwwzDzTlQftzlWjf', 'rBGBgVHBgpgBtPGVtP'],\n",
       " ['vhsshbMbNhZ', 'pgZrrrpHcZr'],\n",
       " ['qhdMqqSLSSbSJMqqS', 'wwjzFzmjFQQFfHzLQ'],\n",
       " ['gDhHNnphPPPNCprHFhHF', 'dbdczzjNqbzjVcdbQTcc'],\n",
       " ['tVJWBtVVZRW', 'tjQbctjqcdj'],\n",
       " ['RfvlGLvLLLlLMZBmZBR', 'hHDVPnVHPHCgFCnhlpn'],\n",
       " ['RFhZFTZvFdjlqql', 'RNCPwSSPCNPBSwC'],\n",
       " ['spHGswpnW', 'gJLLJCPGg'],\n",
       " ['cWpDrVVbWfWbVfbs', 'dQqcQzjjzlhdwqll'],\n",
       " ['WWJPpQwWdQQPNpQ', 'vqlvvCblbvbvwLL'],\n",
       " ['cmRMBMBTbSrTDRMcGBscTG', 'fLZfvfvsCqhLlChZlLhfsC'],\n",
       " ['TVbzGSMGV', 'VgdpdPJpQ'],\n",
       " ['lwsFfsZWGsGmsnlG', 'QcPdBBdMbcPHfcCN'],\n",
       " ['RVvSLtSTrTVrTF', 'PcBdCHRcPHbNNb'],\n",
       " ['LrqzLFTLrgSJLLLtTgJjVJv', 'WlDDnjDWnWWlhlGWGhZWZhn'],\n",
       " ['GQJCMGbrMbbCGrrGtcwhctG', 'jNSvWpVVVRjNJqVqqBBRRJq'],\n",
       " ['ssnglHHsnHzFmHnzHFP', 'VDDSDRgVjvWDNpSSNpB'],\n",
       " ['PZfHmndFzzfPZPZf', 'CdwchwGcbwwhCdMW'],\n",
       " ['DRGVQGmGQVnnGVmnnF', 'pNbzCNRbRttCbpLztC'],\n",
       " ['qdqHBdjTqPlcTchBjJ', 'MvvvLtLCcLggLvtmgb'],\n",
       " ['fqhlHjdwqjjJTwld', 'DmDmrGrrWFrDGZwD'],\n",
       " ['wFscLVLrrVhwWgZPrcswgZW', 'FTnQdtTMnpQtjdpqdqvqQMt'],\n",
       " ['JRbHmmbDDSzDmDN', 'pTnBBdpMHQtqtvp'],\n",
       " ['JmCCbvRGzbbGJ', 'sLgZsVhgLwwGW'],\n",
       " ['WDQwsBzWbBl', 'MjdVpzTJVMj'],\n",
       " ['fncRngntnPC', 'pJgmdFpFWgm'],\n",
       " ['RGZPZtZCfvWSvRZGSLvPcc', 'HwsrHbwHLrwHHQQsBDbllB'],\n",
       " ['PlNZhwgpppccg', 'rqVvttbBfrlls'],\n",
       " ['CznSDDdHDRnRS', 'tVsVfDvfrtDZq'],\n",
       " ['QCddZFSF', 'LTmccQmw'],\n",
       " ['rnwfVnclGPPFfSPS', 'qBWZvvBBWqZvqWFh'],\n",
       " ['zLgLQgJssspmQTJmsgjZNm', 'qqzqdHbthDdDDWHbhqBBqb'],\n",
       " ['QgmmjpNgCCZpjJLpmT', 'rfrSrVRPfnrClfPwnS'],\n",
       " ['zDzPPwvwqvPPBqjnqvDqB', 'ffSfcSNJpNVfccLLNffBR'],\n",
       " ['MdTMZbgbmmTWGGdmss', 'RCSNsSNVVVcJsNppsC'],\n",
       " ['MJghbhHhbtMMdWhbJhHgdmW', 'vnFzHDQPDjQDvHHwvQwvzwF'],\n",
       " ['gGbqqRDrqD', 'MdcBpVlpMG'],\n",
       " ['WzhPCnWfq', 'McpBnnNLZ'],\n",
       " ['fCqPHHJCfJhStwhWH', 'brrgvjFgbQbSbmbQs'],\n",
       " ['fhcchnSpfsNp', 'jVVqnqjrGHqq'],\n",
       " ['zzlFLlPLWdggF', 'qRBjqsrHrBTzz'],\n",
       " ['FDwgFLZWlbb', 'chpwshsCNcw'],\n",
       " ['CmPlqqRJ', 'DHRDDsFv'],\n",
       " ['MfSpBQQNNfBfrf', 'VZsmVVdzzrHZmH'],\n",
       " ['QSBSLSgmQBm', 'wPCtgClhjPP'],\n",
       " ['NPNsHHHNsPs', 'vHwDqgpwlqt'],\n",
       " ['rTRWSRrWRzgTzZrRVVLRQzj', 'pbtmmGLlGDDbDwwmtblvDvw'],\n",
       " ['nRzSRrjSVRrnjrgZfrfz', 'NdPdMPBfBMhJhhBcPhcJ'],\n",
       " ['LLhzQSDHDHNpNzHH', 'JBQBMvMBqBRJBBqw'],\n",
       " ['rmbdtmlW', 'CCMnvJrn'],\n",
       " ['FTVdmVgtjdtbWsvjjmd', 'LSDcgHpDzShzDLPLSHh'],\n",
       " ['VFFJQVWHtQVHHWbJRRRH', 'wqPvpMLpLZZWLwlwMllL'],\n",
       " ['jsngsdGss', 'LvlqnZqZw'],\n",
       " ['hhmfDjDsmDNjj', 'NRNVqNVJRtQHJ'],\n",
       " ['jvTnffrgFTw', 'vqMzqGdMMSW'],\n",
       " ['sPbCtCCQQLffZ', 'GdWNLWDDzLzGM'],\n",
       " ['PQPBBtfZCZsmJPP', 'plwwmTwpcTcmcgj'],\n",
       " ['NBmBRCCsBTRNT', 'ndGdswnlwvwnw'],\n",
       " ['fvbqrbPLqp', 'GwScGGwbbb'],\n",
       " ['HJDPJFJLJtpJH', 'CvCFBBBBNNWvF'],\n",
       " ['HJHgNQJBS', 'lRRbJDRDb'],\n",
       " ['Rptsfnshs', 'cWMLMZDZp'],\n",
       " ['njmrnPznnsTRTtPzFzRTs', 'wgQwqvVVwBNwwvjqCHqHq'],\n",
       " ['CBMgBJCTNgQcsQ', 'spPpWjRrWrsWsn'],\n",
       " ['mwLvHLGbdHbGzSHmvmvHzr', 'hjjjPptjWGqZPPZhPRWWGP'],\n",
       " ['vbbrLFwL', 'FDJFDfFN'],\n",
       " ['TnPvZSnQgQPHnnnQvgMS', 'WppWNfWRpWfMtthMNDhN'],\n",
       " ['wLJmLBmGFBFdLBbCBbVCVl', 'sGsWhtHqthRRhqhtHHGqqf'],\n",
       " ['LmHLbCjjBLV', 'ZzZSgzQgjrc'],\n",
       " ['wdSwfpBhtFbStpftjSVhBwF', 'rGrsQnQgnGrQmqCPmDrmmDb'],\n",
       " ['zJvzLJLNZNscLzNHHL', 'rGPvGGPrDDqGgDPDgC'],\n",
       " ['RWsNNRMsHTHLHTlMczLHZLW', 'tpFwfpthSjFtwFhjSVplwtj'],\n",
       " ['QbrBDLGGRJMQJQJDbQbG', 'vNscWNnTdvnvtnLcccvl'],\n",
       " ['fqZgpVPZHPmfgPPjBFg', 'cscvNNccdddtdNvdFTs'],\n",
       " ['CgPpghfjjPgVmf', 'BMMCRJQQJzJBwM'],\n",
       " ['jLWDqLdWdwL', 'fHwJwzSSfwS'],\n",
       " ['gCgRRltMrlrCcCMzcB', 'SVfZQfVNZNVSBVNNNh'],\n",
       " ['gMrcPntccGgzgTMlMPrt', 'DWFvLqqdLnDsmLLFFqvp'],\n",
       " ['ttHJNccRRwmnsnHnH', 'WMSwqfgvgfwSQZfQf'],\n",
       " ['ShpLhhzTP', 'BMpQqQgvM'],\n",
       " ['zhbFjVdrjFjVljrVbdPddSTP', 'HNssHnHlRNCHtRtsctJtGsRJ'],\n",
       " ['zMVTscVh', 'QhGGhClv'],\n",
       " ['LfMJmgSBpLRfHmBPgpmJPSB', 'dvQNtlHvrHvNNtNNNClGdGN'],\n",
       " ['JFJmmSFFbFFbRJPBgFPmSBPM', 'zzWWTDjjTsTqqwjVWbjjVVsZ'],\n",
       " ['HZpCnwnggf', 'FggbgLDcTb'],\n",
       " ['SjvWjGzNGGzRjSG', 'mMcLhvhMhFMCcmv'],\n",
       " ['rjrVJNjVrzVN', 'PrwtPwPCHBPB'],\n",
       " ['SWwFbTzsSjPzpjFbsWPTWTcW', 'LCLgLgLBZjGVDjCVBBgCBGCZ'],\n",
       " ['lrJJttQcHqrHr', 'vggHVBgBLffBC'],\n",
       " ['lnhhcqNRJ', 'WzhTdsWFz'],\n",
       " ['vzldvzlcl', 'bFjFvmtjZ'],\n",
       " ['DDNMNStMsSsGnhSM', 'wQjTQVgVbwMbVTTQ'],\n",
       " ['DsDSCNNGpLtsNLpnNsqLppD', 'zCBcdJHBzllcJfzJBPBdBlR'],\n",
       " ['qWNfDvffbJBFDpNfmpb', 'whGhwjLgTrGwhbGGwrj'],\n",
       " ['ZctMVCcVVQt', 'TpthlnLtppw'],\n",
       " ['QMcRSPMZcpCZ', 'qDFNRFHNJFFF'],\n",
       " ['RmztpGSssNMzJRp', 'CvqsCrqdHCBlBdw'],\n",
       " ['gffPFDcqVbgqWgj', 'lPlwCCrdBdllnBH'],\n",
       " ['cFFZcbcqfQhgbc', 'NJZRSMRtmNJptS'],\n",
       " ['PZthPBWlPNPSPt', 'mHHggFGgBJJbwg'],\n",
       " ['qqzDvLLrfDpvvDLzqvnLzqpz', 'brCRGJRHwFCmHRwGwgwbbRCj'],\n",
       " ['nnpnMfpMLTVqf', 'mthmsMNSScMhS'],\n",
       " ['dflvbdvpfffzpnNLNbWqtblq', 'HjmVhVRhHrwrwrswhHnjsmwh'],\n",
       " ['gSGMdMcJBgMTGPSPD', 'VZhHhHZmDZhrwwjVm'],\n",
       " ['CPJQGBGGPcSTFcTCScF', 'tLLdWvptWLbNpNzvWQL'],\n",
       " ['WThqhvvRDJDRhw', 'crscNDNFgDHNct'],\n",
       " ['fnrZVnfVjrSGGLzZbnLzZLjV', 'HstHHHQtgQbPpPcpHsscsFpN'],\n",
       " ['SVjZSzZdndVCdSSZm', 'TRvMWBRWvvWlrvmhJ'],\n",
       " ['BcllhPPmMMBPcbR', 'wgQtgHHgtmwgzmt'],\n",
       " ['rpLqbrbTnNvqjLqLNqrNLv', 'HzDtwpDCzFwggttFFHCQFQ'],\n",
       " ['LrrrNLqjZSTsZZsvjbLj', 'PhcBBlBsBcGPPcPlPVGP'],\n",
       " ['HHhrggvS', 'HDtCDsfF'],\n",
       " ['ZMpLblppNZBDBwLzLLpM', 'ssCntfWdCFCnfCCtRNtq'],\n",
       " ['lbmJlzzLMPMmlBz', 'hSJVccSJhTvSTDh'],\n",
       " ['sdjBBFqHscFnH', 'TzCnRSnzgVTlC'],\n",
       " ['LpWWtvZfrpbLpZpWftprL', 'CCNMzCZMmmzTNNTmSSVSM'],\n",
       " ['pLVtrtbGvpbpGLfP', 'ddHBscBQJJGcwsQq'],\n",
       " ['hLcLnVVcfQBLZPVZnThfVV', 'mjqjHNjgvNfdvpNdrrvvfp'],\n",
       " ['lbRlWFHJtG', 'NGpqmrqrCN'],\n",
       " ['DzRRDFsbDtFtDJtWRztzJ', 'ZVBQMhTsLhQZMZHVLcLcP'],\n",
       " ['WgbdmgMmW', 'DDvcPcpbz'],\n",
       " ['jffpllHSpHRptRRGRntS', 'VwvLSCCJDzcCcDLvCzPP'],\n",
       " ['tRFrnlGfZr', 'QpBpgQQsgF'],\n",
       " ['TpbBZbCCHCGZNHbzG', 'qgFdNlcFSdNlStSqg'],\n",
       " ['wvWnWwLCPjJPJh', 'MWtWdMfFSMgcdM'],\n",
       " ['hhmvmJrJLJJJPvvhDjsw', 'CRGHHrHzBBHGVRQBzRRQ'],\n",
       " ['zChCSBbpS', 'sQscDHHQh'],\n",
       " ['LNJJRgGltJ', 'DvfcrfgHfZ'],\n",
       " ['lJNRGlLnNJtTGVMl', 'FTbwSWqjBbzWWHSW'],\n",
       " ['NDTJQDVwCTCJhVGDL', 'fbBbBfbGqbfHBfBHb'],\n",
       " ['lMgMrggMrmmtzMcgWdlmMl', 'bsRjSRBsTRBWsSHSBTHRBj'],\n",
       " ['cMPlgztzrPMznnMPpgddgdz', 'pwDDNNwhNFCTwNZQFLTVTwV'],\n",
       " ['ZgshQgzQn', 'nwMtDwBwv'],\n",
       " ['SFWFlFZRRcmlWmWR', 'BCDwvwwftBtLmfLf'],\n",
       " ['PjRFdTdWGddrGlPjc', 'sJZpJzTqhzQJzNHhz'],\n",
       " ['PgHQgddszgd', 'GPWpMjljMcj'],\n",
       " ['bSqTqnZLnDJSmnmZm', 'tllGsnVtnWjGGWtjl'],\n",
       " ['fqSLDbRSfB', 'dHsRwsFdHd'],\n",
       " ['RwHWZpCWhHvwvHC', 'BMBpJMJGPJJnJgc'],\n",
       " ['lztljTFljRR', 'BBzBnBMnJMS'],\n",
       " ['QbRljFtQfljbbFqNF', 'rdZVrZfdCCwVwvddH'],\n",
       " ['sHzztVzLTgnssPggHHsnCtz', 'BmfBMrMccBBmqmrBqBCRqMf'],\n",
       " ['ZhDQJhFD', 'qjmSMrRF'],\n",
       " ['dZpwDhNhhZpQJdDQp', 'wnsGttGwLtRRTLRts'],\n",
       " ['QJNhClVgPTTtPNCJJCtJhlNP', 'ZZRVZfvfzZzmvvzvsmZsvmzR'],\n",
       " ['blBWBpdbLBDqBp', 'szzffRsvdzjvvd'],\n",
       " ['BLWpqBbqnDHqBbGlnWGB', 'PcPJcHTTPrhtgNtCtgPc'],\n",
       " ['jWVJqVwgsJc', 'HCVlQVVQNBp'],\n",
       " ['vGhGhTPtS', 'SNCddSBCH'],\n",
       " ['ZCCDtbDft', 'ZsqrrcnWW'],\n",
       " ['hJThjThhVzVT', 'ZZwnNZRdgmzt'],\n",
       " ['lrbSSddsrbPQps', 'vNtgPRmtHmvtnR'],\n",
       " ['GQrspWdSGbDcs', 'FFLBhCGVBjhjj'],\n",
       " ['rHdlHdZDlTcflcNfcrCgcT', 'WWpWQFsRWsFjRCsCjWCmhF'],\n",
       " ['BnqbvQPLGLBPwq', 'GmsVshsSWShGms'],\n",
       " ['PzzPPQJPMJtJbbznPn', 'DdrHlNldDNltrgtfDg'],\n",
       " ['SmmMQhPSlmTwPpmnpllMSMP', 'rccFDqFrDFGgqrDcCwfDgwq'],\n",
       " ['bVdLLNvdQWVbJbQLV', 'GfGDGfDgrFrqgqJgg'],\n",
       " ['vjjWsbQdBssz', 'hsHlhhPPSHsM'],\n",
       " ['PqzJqNzsJgsgNqPdLJPPP', 'NVpMMVWGlFWNFGMpWppGF'],\n",
       " ['ZnZBjttQZcQZRTQDjQ', 'wGFlWMlGdGWVrWWlGn'],\n",
       " ['ZRDBRSZDSdS', 'LsqJHfSbzzL'],\n",
       " ['rljJqtZlJql', 'JcvBNJBNQfQ'],\n",
       " ['TVMWznvPMTFWznwPFFvw', 'FbbBNBgbcNpQdNcBFQpb'],\n",
       " ['mDnLWsPLvLMnnnmTzLzV', 'CtlRRtjSljCZhDlhtqSq'],\n",
       " ['fgWMHClGMWfgRWWWGCfmfgCS', 'VQNTDFHTtddVQQDZNLDZtVVL'],\n",
       " ['wSqbsvzpwpbp', 'dFTNLQwLNTFN'],\n",
       " ['zscjPnPqs', 'JlmPJCJSC'],\n",
       " ['GZSwQjGwGrCGwrTjdCTwdT', 'BpqqlmNmVpNrNvplJqNNpl'],\n",
       " ['zMfJnDcbRRDRFbzDFR', 'LFBtqNmqqtNBmNBvNm'],\n",
       " ['sHcJRRHzzf', 'QTjjCjQjCH'],\n",
       " ['wJCVVbJgCLCwGsMbbGTls', 'RWHsztZPZWtPrPrWrHzrz'],\n",
       " ['DBqdvfqDBqF', 'pWZFrtppZJp'],\n",
       " ['djqNfQcjDQj', 'MgbbwLjlJGn'],\n",
       " ['TSwfZMfpQw', 'cCCCCrbbCZ'],\n",
       " ['PLJmGJnjq', 'jrsCjMMVj'],\n",
       " ['LnNNLLLnFFWmLFMGNMD', 'gfRpDQSfwSfgQzBHwTS'],\n",
       " ['CdjNCMmdCrVmCjJdVjFNMtM', 'zhWwpGbpBhPZZZDbGPpDhpr'],\n",
       " ['QSfHzlvgTQffSSHHclgfHnq', 'PbPPPppBhpWDhwWvPhvbwwh'],\n",
       " ['cQfQRgQnQsnsQSgHRQ', 'JsCFMsCjLzJJFjCdNC'],\n",
       " ['ltLlJttmQ', 'dfVRhNmhB'],\n",
       " ['gWWDrPSvCSWgMMM', 'ZBVBdTQPQZNZVPR'],\n",
       " ['vCbwQzcQrCr', 'LFHwJpHHGpp'],\n",
       " ['VbRVvVHRbJ', 'VTzVLBVPtt'],\n",
       " ['cSdgSZSZZFhnFcFwdDQcZZhg', 'zpTlzLDzlWTvBWLztBtpLplT'],\n",
       " ['hZZvdrcSZQZSSwncd', 'HCqHmGHqJrCJqbNbq'],\n",
       " ['lwWmsQlD', 'bCZbVWZq'],\n",
       " ['rRShhhhPjTsjTRvHh', 'qfzqfqvBZZvBCZffC'],\n",
       " ['scPThhRSj', 'QmmNpplcg'],\n",
       " ['FChtDTThDqZ', 'tjppjvgNvjl'],\n",
       " ['LBwsVdVHLV', 'vvpVGjjgjS'],\n",
       " ['BbHLBfRcsHcBdMbdW', 'JQPWFCQCZZhWrJPQp'],\n",
       " ['zMtWCstzNrQ', 'LpbplFwQwhb'],\n",
       " ['gDTDHGvvHVfVdGZVJGDGd', 'nmbwmWFwfhpbnfjwwjpLl'],\n",
       " ['GJcHVJdvZJVGZWHSSvTZ', 'MCzrzzRNSBtBNPBMqNBB'],\n",
       " ['pLzZVVGGZmZV', 'lmDsQglgsllc'],\n",
       " ['WSvrjRjrMMFFnFjnrnrdjBRR', 'gdsblQQPbpggsclNDDbPstDs'],\n",
       " ['SMWRBrrrvSRBSSvWWWBTMT', 'CqpZzLCCTCwJZwwzGZzqHL'],\n",
       " ['TvfGwGZpP', 'nSNgSSnGh'],\n",
       " ['srLVHLcjsjVtHqjjrjFjcC', 'qPBggqNQQnMqhgngnznNNB'],\n",
       " ['VtdmPHLmtVHFLdm', 'ZWRJlWpWWWlmWfp'],\n",
       " ['SbSbdTsrVrdhfSd', 'DGJWGmNwWWPwTGP'],\n",
       " ['BqlRpBMmllpmnpv', 'vDJPZWPJwZcJgDD'],\n",
       " ['FFRMCnRFtCMRlMplqMBRBpp', 'VbtzdrdhssrmHzVVSsVhVHz'],\n",
       " ['dNrhhLsrs', 'hSmmRcPhm'],\n",
       " ['WMCngCzCvzvMMpplQvzWl', 'RBPcVStSmTSQbbVSPQmwm'],\n",
       " ['MpzvWnllglJfqfMg', 'sNdZHqNjdDsPHqqZ'],\n",
       " ['rNvGZRsRc', 'RRBtBCttB'],\n",
       " ['DwPPQWnWWnPQnJlP', 'hmTtBFBmqzhpmnFh'],\n",
       " ['QwQQQlbPPMWwDdDwlVDJJPPd', 'vdSjrjdrsgssLLsZLNBrNNNr'],\n",
       " ['VjMMVzngnjQQf', 'JDchZqGNqFPcg'],\n",
       " ['SWBwTtWSFTHwFClHHmwB', 'PcJJDhNGPJNPPhPPGhJt'],\n",
       " ['CBvSBBBWHdmRTvRW', 'RQFLQRnjnfLLzVbs'],\n",
       " ['flSpvLlmZpCpZmVSBtlv', 'HHjFHTdssZdjHFdTWdNh'],\n",
       " ['RmQMQJRQJQmPgrzJrPcRQRJc', 'WdNTGTGGFhGTdFhHThHGMTsF'],\n",
       " ['RzJrqqcqPRqqJDDq', 'ttCpmtlwBpDflSLt'],\n",
       " ['hBjPZbPBbW', 'vTRnLRWntD'],\n",
       " ['MNGQNsQwfzsdGfgTGfzQwwff', 'mnCRDVmJLRLCvnvLDvJCDgRL'],\n",
       " ['wTTdFldNHzTMl', 'jjFqphrBqhrZb'],\n",
       " ['wDcMCbZbzPDcZDW', 'QdrJLrQrZBLRBQr'],\n",
       " ['FFSHStjtHgllgFdSNmlfFSt', 'BqRRssRsRJrLrjrrJBRVhLJ'],\n",
       " ['fGggtfHtg', 'WMwbCGdCT'],\n",
       " ['RQrQDDbVGrRSfbVbGtmGt', 'wHFWsCCzsJSJJHsJPJvWC'],\n",
       " ['hphQnhZQNjlBBcMMp', 'CsHwFjvvHWHWsFvjC'],\n",
       " ['ppcnnBZqllTQ', 'fmrffbtGTDGt'],\n",
       " ['dsDFsBZBhCFhshFrpBFn', 'mLQmHmRgRbLqmmmRQDLm'],\n",
       " ['PPBBNNNtGTwJNfTJffNttf', 'LQgqLgHvHbqRwlgmblRvll'],\n",
       " ['NSNTGTJTWPjGWMPSJJ', 'zrBSpzdFSddCFdncrs'],\n",
       " ['bPzRlMPTzTMldJM', 'nhswcjzfQVccQhc'],\n",
       " ['HCCqNmNm', 'QQmQssJn'],\n",
       " ['pHptprtg', 'RStTtMJt'],\n",
       " ['nTmhrsPMsT', 'fmHHGcSgtj'],\n",
       " ['bJJwdlrJQLlvwlQDDw', 'SbgffGVNjfgjNtVbcf'],\n",
       " ['QlpDQFJdvdFqJdFpLvDFpLL', 'nzZMnBMRRzMTqnrzqTRPznz'],\n",
       " ['qRVRqBzgwqRpqRgVqQRPpQ', 'JJPrPhPGJnsGrCFdFJrZdG'],\n",
       " ['ZvWDmMvmS', 'vCndssrsJ'],\n",
       " ['WcZcNWlcMj', 'BQpzNTqVBp'],\n",
       " ['DpLPZLDDlcgmDm', 'hVgfgfWWRwhwwt'],\n",
       " ['VrVMdbCrrBTjC', 'MQQtMwQNSqMQW'],\n",
       " ['VCBHdJHdvrrFsbsdrBJTdT', 'zZcpmZGDGPlmzmlccFDZDn']]"
      ]
     },
     "execution_count": 3,
     "metadata": {},
     "output_type": "execute_result"
    }
   ],
   "source": [
    "# define function that separates each string in half\n",
    "def prepare_data(rucksack_list):\n",
    "    sep_list = []\n",
    "    for r in rucksack_list:\n",
    "        sep_list.append([r[:len(r)//2], r[len(r)//2:]])\n",
    "    return sep_list\n",
    "\n",
    "data1 = prepare_data(data)\n",
    "data1"
   ]
  },
  {
   "cell_type": "code",
   "execution_count": 4,
   "id": "fdd7a665",
   "metadata": {},
   "outputs": [
    {
     "name": "stdout",
     "output_type": "stream",
     "text": [
      "r\n",
      "e\n",
      "k\n"
     ]
    }
   ],
   "source": [
    "# practice\n",
    "s1='burek'\n",
    "s2='torek'\n",
    "a=list(set(s1)&set(s2))\n",
    "for i in a:\n",
    "    print(i)"
   ]
  },
  {
   "cell_type": "code",
   "execution_count": 5,
   "id": "ce9791a1",
   "metadata": {},
   "outputs": [
    {
     "name": "stdout",
     "output_type": "stream",
     "text": [
      "p\n"
     ]
    }
   ],
   "source": [
    "# practice with the first list\n",
    "l = ['vJrwpWtwJgWr', 'hcsFMMfFFhFp']\n",
    "a = list(set(l[0])&set(l[1]))\n",
    "for i in a:\n",
    "    print(i)"
   ]
  },
  {
   "cell_type": "code",
   "execution_count": 6,
   "id": "171d99e2",
   "metadata": {},
   "outputs": [
    {
     "data": {
      "text/plain": [
       "['p']"
      ]
     },
     "execution_count": 6,
     "metadata": {},
     "output_type": "execute_result"
    }
   ],
   "source": [
    "# list comprehension - apply to the whole list of lists\n",
    "[i for i in list(set(l[0])&set(l[1]))]"
   ]
  },
  {
   "cell_type": "code",
   "execution_count": 7,
   "id": "952628c1",
   "metadata": {},
   "outputs": [],
   "source": [
    "# now onto the real thing\n",
    "res = [i for d in data1 for i in list(set(d[0])&set(d[1]))]"
   ]
  },
  {
   "cell_type": "code",
   "execution_count": 8,
   "id": "f5e82033",
   "metadata": {},
   "outputs": [
    {
     "data": {
      "text/plain": [
       "7967"
      ]
     },
     "execution_count": 8,
     "metadata": {},
     "output_type": "execute_result"
    }
   ],
   "source": [
    "# ord(a)=97, hence the -96, ord(A)= 65, A should be 27, hence the -38\n",
    "res_num = []\n",
    "for char in res:\n",
    "    if char.isupper() == True:\n",
    "        res_num.append(ord(char)-38)\n",
    "    else:\n",
    "        res_num.append(ord(char)-96)\n",
    "\n",
    "sum(res_num)"
   ]
  },
  {
   "cell_type": "markdown",
   "id": "3dabadfd",
   "metadata": {},
   "source": [
    "#### Part Two"
   ]
  },
  {
   "cell_type": "code",
   "execution_count": 9,
   "id": "0553d074",
   "metadata": {},
   "outputs": [],
   "source": [
    "from itertools import islice\n",
    "\n",
    "def chunk(it, size):\n",
    "    it = iter(it)\n",
    "    return iter(lambda: tuple(islice(it, size)), ())\n",
    "\n",
    "data = list(chunk(data, 3))"
   ]
  },
  {
   "cell_type": "code",
   "execution_count": 10,
   "id": "022e8c75",
   "metadata": {},
   "outputs": [],
   "source": [
    "# same as above, just choose three elements\n",
    "res = [i for d in data for i in list(set(d[0])&set(d[1])&set(d[2]))]"
   ]
  },
  {
   "cell_type": "code",
   "execution_count": 11,
   "id": "13985df4",
   "metadata": {},
   "outputs": [
    {
     "data": {
      "text/plain": [
       "2716"
      ]
     },
     "execution_count": 11,
     "metadata": {},
     "output_type": "execute_result"
    }
   ],
   "source": [
    "# appply numbers for chars\n",
    "res_num = []\n",
    "for char in res:\n",
    "    if char.isupper() == True:\n",
    "        res_num.append(ord(char)-38)\n",
    "    else:\n",
    "        res_num.append(ord(char)-96)\n",
    "\n",
    "sum(res_num)"
   ]
  }
 ],
 "metadata": {
  "kernelspec": {
   "display_name": "Python 3 (ipykernel)",
   "language": "python",
   "name": "python3"
  },
  "language_info": {
   "codemirror_mode": {
    "name": "ipython",
    "version": 3
   },
   "file_extension": ".py",
   "mimetype": "text/x-python",
   "name": "python",
   "nbconvert_exporter": "python",
   "pygments_lexer": "ipython3",
   "version": "3.9.12"
  }
 },
 "nbformat": 4,
 "nbformat_minor": 5
}
