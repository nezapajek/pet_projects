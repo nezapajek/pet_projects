{
 "cells": [
  {
   "cell_type": "markdown",
   "id": "ef3789ef",
   "metadata": {},
   "source": [
    "# AOC - Day two"
   ]
  },
  {
   "cell_type": "code",
   "execution_count": 1,
   "id": "5a12c0ca",
   "metadata": {},
   "outputs": [],
   "source": [
    "import pandas as pd\n",
    "import numpy as np"
   ]
  },
  {
   "cell_type": "code",
   "execution_count": null,
   "id": "653c6444",
   "metadata": {},
   "outputs": [],
   "source": [
    "# import data\n",
    "#filename = '02_test.txt'\n",
    "#filename = '02_data.txt'\n",
    "data = open(filename).read()"
   ]
  },
  {
   "cell_type": "code",
   "execution_count": null,
   "id": "0d34fa14",
   "metadata": {},
   "outputs": [],
   "source": [
    "# define data process function\n",
    "def process(data):\n",
    "    data = [np.array(d.split('\\n'), dtype=int) for d in data.split('\\n\\n')]\n",
    "    return data\n",
    "\n",
    "data = process(data)"
   ]
  },
  {
   "cell_type": "markdown",
   "id": "7d663a35",
   "metadata": {},
   "source": [
    "### Part 1"
   ]
  },
  {
   "cell_type": "code",
   "execution_count": null,
   "id": "2b654d2f",
   "metadata": {},
   "outputs": [],
   "source": []
  },
  {
   "cell_type": "code",
   "execution_count": null,
   "id": "46bc74cb",
   "metadata": {},
   "outputs": [],
   "source": []
  },
  {
   "cell_type": "markdown",
   "id": "de567037",
   "metadata": {},
   "source": [
    "### Part 2"
   ]
  },
  {
   "cell_type": "code",
   "execution_count": null,
   "id": "60186e1b",
   "metadata": {},
   "outputs": [],
   "source": []
  },
  {
   "cell_type": "code",
   "execution_count": null,
   "id": "8b27baee",
   "metadata": {},
   "outputs": [],
   "source": []
  }
 ],
 "metadata": {
  "kernelspec": {
   "display_name": "Python 3 (ipykernel)",
   "language": "python",
   "name": "python3"
  },
  "language_info": {
   "codemirror_mode": {
    "name": "ipython",
    "version": 3
   },
   "file_extension": ".py",
   "mimetype": "text/x-python",
   "name": "python",
   "nbconvert_exporter": "python",
   "pygments_lexer": "ipython3",
   "version": "3.9.12"
  }
 },
 "nbformat": 4,
 "nbformat_minor": 5
}
