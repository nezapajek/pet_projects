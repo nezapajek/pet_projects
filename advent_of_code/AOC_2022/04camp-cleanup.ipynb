{
 "cells": [
  {
   "cell_type": "markdown",
   "id": "e2c76473",
   "metadata": {},
   "source": [
    "### Day 4: Camp Cleanup"
   ]
  },
  {
   "cell_type": "code",
   "execution_count": 135,
   "id": "8c00004c",
   "metadata": {},
   "outputs": [],
   "source": [
    "# import data\n",
    "#filename = '04_test.txt'\n",
    "filename = '04_data.txt'\n",
    "raw = open(f'./data/{filename}').read()"
   ]
  },
  {
   "cell_type": "code",
   "execution_count": 136,
   "id": "c4334c3e",
   "metadata": {},
   "outputs": [],
   "source": [
    "import re\n",
    "import numpy as np\n",
    "\n",
    "# define data process function\n",
    "def process(data):\n",
    "    data = data.split('\\n')\n",
    "    data = [np.array(re.findall('\\d+', d), dtype=int) for d in data]\n",
    "    return data\n",
    "\n",
    "# process data\n",
    "data = process(raw)"
   ]
  },
  {
   "cell_type": "markdown",
   "id": "0e0d0082",
   "metadata": {},
   "source": [
    "#### Part 1"
   ]
  },
  {
   "cell_type": "code",
   "execution_count": 137,
   "id": "f2d105fa",
   "metadata": {},
   "outputs": [
    {
     "data": {
      "text/plain": [
       "({2, 3, 4}, {6, 7, 8})"
      ]
     },
     "execution_count": 137,
     "metadata": {},
     "output_type": "execute_result"
    }
   ],
   "source": [
    "# test with one line\n",
    "x = np.array([2, 4, 6, 8])\n",
    "set(range(x[0],x[1]+1)), set(range(x[2], x[3]+1))"
   ]
  },
  {
   "cell_type": "code",
   "execution_count": 138,
   "id": "8e410242",
   "metadata": {},
   "outputs": [],
   "source": [
    "# apply to whole data\n",
    "sections = [(set(range(d[0],d[1]+1)), set(range(d[2], d[3]+1))) for d in data]"
   ]
  },
  {
   "cell_type": "code",
   "execution_count": 139,
   "id": "864e2370",
   "metadata": {},
   "outputs": [
    {
     "data": {
      "text/plain": [
       "{25, 26, 27, 28, 29, 30, 31, 32, 33, 34, 35, 36, 37, 38, 39, 40, 41, 42}"
      ]
     },
     "execution_count": 139,
     "metadata": {},
     "output_type": "execute_result"
    }
   ],
   "source": [
    "# check intersection\n",
    "sections[2][0].intersection(sections[2][1])"
   ]
  },
  {
   "cell_type": "code",
   "execution_count": 140,
   "id": "75f3f64a",
   "metadata": {},
   "outputs": [],
   "source": [
    "# check intersection in a list comprehension\n",
    "intersections = [s[0].intersection(s[1]) for s in sections if s[0]<=s[1] or s[1]<=s[0]]"
   ]
  },
  {
   "cell_type": "code",
   "execution_count": 141,
   "id": "41268b3e",
   "metadata": {},
   "outputs": [
    {
     "data": {
      "text/plain": [
       "507"
      ]
     },
     "execution_count": 141,
     "metadata": {},
     "output_type": "execute_result"
    }
   ],
   "source": [
    "len(intersections)"
   ]
  },
  {
   "cell_type": "markdown",
   "id": "9da576dc",
   "metadata": {},
   "source": [
    "#### Part 2"
   ]
  },
  {
   "cell_type": "code",
   "execution_count": 142,
   "id": "0c035207",
   "metadata": {},
   "outputs": [],
   "source": [
    "intersections2 =[s[0].intersection(s[1]) for s in sections if len(s[0].intersection(s[1])) > 0]"
   ]
  },
  {
   "cell_type": "code",
   "execution_count": 143,
   "id": "e121ca8e",
   "metadata": {},
   "outputs": [
    {
     "data": {
      "text/plain": [
       "897"
      ]
     },
     "execution_count": 143,
     "metadata": {},
     "output_type": "execute_result"
    }
   ],
   "source": [
    "len(intersections2)"
   ]
  }
 ],
 "metadata": {
  "kernelspec": {
   "display_name": "Python 3 (ipykernel)",
   "language": "python",
   "name": "python3"
  },
  "language_info": {
   "codemirror_mode": {
    "name": "ipython",
    "version": 3
   },
   "file_extension": ".py",
   "mimetype": "text/x-python",
   "name": "python",
   "nbconvert_exporter": "python",
   "pygments_lexer": "ipython3",
   "version": "3.9.12"
  }
 },
 "nbformat": 4,
 "nbformat_minor": 5
}
