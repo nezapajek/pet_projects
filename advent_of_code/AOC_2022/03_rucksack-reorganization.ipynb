{
 "cells": [
  {
   "cell_type": "markdown",
   "id": "ecc415ec",
   "metadata": {},
   "source": [
    "### Day 3: Rucksack Reorganization"
   ]
  },
  {
   "cell_type": "code",
   "execution_count": 67,
   "id": "dafd5aa5",
   "metadata": {},
   "outputs": [],
   "source": [
    "# import data\n",
    "#filename = '03_test.txt'\n",
    "filename = '03_data.txt'\n",
    "data = open(f'./data/{filename}').read()"
   ]
  },
  {
   "cell_type": "code",
   "execution_count": 68,
   "id": "09981a6d",
   "metadata": {},
   "outputs": [],
   "source": [
    "# define data process function\n",
    "def process(data):\n",
    "    data = data.split('\\n')\n",
    "    return data\n",
    "\n",
    "# process data\n",
    "data = process(data)"
   ]
  },
  {
   "cell_type": "markdown",
   "id": "9f26c0e5",
   "metadata": {},
   "source": [
    "#### Part One"
   ]
  },
  {
   "cell_type": "code",
   "execution_count": 69,
   "id": "c0d10511",
   "metadata": {},
   "outputs": [],
   "source": [
    "# define function that separates each string in half\n",
    "def prepare_data(rucksack_list):\n",
    "    sep_list = []\n",
    "    for r in rucksack_list:\n",
    "        sep_list.append([r[:len(r)//2], r[len(r)//2:]])\n",
    "    return sep_list\n",
    "\n",
    "data1 = prepare_data(data)"
   ]
  },
  {
   "cell_type": "code",
   "execution_count": 70,
   "id": "fdd7a665",
   "metadata": {},
   "outputs": [
    {
     "name": "stdout",
     "output_type": "stream",
     "text": [
      "k\n",
      "r\n",
      "e\n"
     ]
    }
   ],
   "source": [
    "# practice\n",
    "s1='burek'\n",
    "s2='torek'\n",
    "a=list(set(s1)&set(s2))\n",
    "for i in a:\n",
    "    print(i)"
   ]
  },
  {
   "cell_type": "code",
   "execution_count": 71,
   "id": "ce9791a1",
   "metadata": {},
   "outputs": [
    {
     "name": "stdout",
     "output_type": "stream",
     "text": [
      "p\n"
     ]
    }
   ],
   "source": [
    "# practice with the first list\n",
    "l = ['vJrwpWtwJgWr', 'hcsFMMfFFhFp']\n",
    "a = list(set(l[0])&set(l[1]))\n",
    "for i in a:\n",
    "    print(i)"
   ]
  },
  {
   "cell_type": "code",
   "execution_count": 72,
   "id": "171d99e2",
   "metadata": {},
   "outputs": [
    {
     "data": {
      "text/plain": [
       "['p']"
      ]
     },
     "execution_count": 72,
     "metadata": {},
     "output_type": "execute_result"
    }
   ],
   "source": [
    "# list comprehension - apply to the whole list of lists\n",
    "[i for i in list(set(l[0])&set(l[1]))]"
   ]
  },
  {
   "cell_type": "code",
   "execution_count": 73,
   "id": "952628c1",
   "metadata": {},
   "outputs": [],
   "source": [
    "# now onto the real thing\n",
    "res = [i for d in data1 for i in list(set(d[0])&set(d[1]))]"
   ]
  },
  {
   "cell_type": "code",
   "execution_count": 74,
   "id": "f5e82033",
   "metadata": {},
   "outputs": [
    {
     "data": {
      "text/plain": [
       "7967"
      ]
     },
     "execution_count": 74,
     "metadata": {},
     "output_type": "execute_result"
    }
   ],
   "source": [
    "# ord(a)=97, hence the -96, ord(A)= 65, A should be 27, hence the -38\n",
    "res_num = []\n",
    "for char in res:\n",
    "    if char.isupper() == True:\n",
    "        res_num.append(ord(char)-38)\n",
    "    else:\n",
    "        res_num.append(ord(char)-96)\n",
    "\n",
    "sum(res_num)"
   ]
  },
  {
   "cell_type": "markdown",
   "id": "3dabadfd",
   "metadata": {},
   "source": [
    "#### Part Two"
   ]
  },
  {
   "cell_type": "code",
   "execution_count": 75,
   "id": "0553d074",
   "metadata": {},
   "outputs": [],
   "source": [
    "from itertools import islice\n",
    "\n",
    "def chunk(it, size):\n",
    "    it = iter(it)\n",
    "    return iter(lambda: tuple(islice(it, size)), ())\n",
    "\n",
    "data = list(chunk(data, 3))"
   ]
  },
  {
   "cell_type": "code",
   "execution_count": 76,
   "id": "022e8c75",
   "metadata": {},
   "outputs": [],
   "source": [
    "# same as above, just choose three elements\n",
    "res = [i for d in data for i in list(set(d[0])&set(d[1])&set(d[2]))]"
   ]
  },
  {
   "cell_type": "code",
   "execution_count": 77,
   "id": "13985df4",
   "metadata": {},
   "outputs": [
    {
     "data": {
      "text/plain": [
       "2716"
      ]
     },
     "execution_count": 77,
     "metadata": {},
     "output_type": "execute_result"
    }
   ],
   "source": [
    "# appply numbers for chars\n",
    "res_num = []\n",
    "for char in res:\n",
    "    if char.isupper() == True:\n",
    "        res_num.append(ord(char)-38)\n",
    "    else:\n",
    "        res_num.append(ord(char)-96)\n",
    "\n",
    "sum(res_num)"
   ]
  }
 ],
 "metadata": {
  "kernelspec": {
   "display_name": "Python 3 (ipykernel)",
   "language": "python",
   "name": "python3"
  },
  "language_info": {
   "codemirror_mode": {
    "name": "ipython",
    "version": 3
   },
   "file_extension": ".py",
   "mimetype": "text/x-python",
   "name": "python",
   "nbconvert_exporter": "python",
   "pygments_lexer": "ipython3",
   "version": "3.9.12"
  }
 },
 "nbformat": 4,
 "nbformat_minor": 5
}
