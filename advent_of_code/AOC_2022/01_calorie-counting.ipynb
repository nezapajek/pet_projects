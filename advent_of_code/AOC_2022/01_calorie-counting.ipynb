{
 "cells": [
  {
   "cell_type": "markdown",
   "id": "6291a78e",
   "metadata": {},
   "source": [
    "# AOC - Day one"
   ]
  },
  {
   "cell_type": "code",
   "execution_count": 9,
   "id": "20083851",
   "metadata": {},
   "outputs": [],
   "source": [
    "import numpy as np"
   ]
  },
  {
   "cell_type": "code",
   "execution_count": 10,
   "id": "3d055a93",
   "metadata": {},
   "outputs": [],
   "source": [
    "# import data\n",
    "# filename = '01_test.txt'\n",
    "filename = '01_data.txt'\n",
    "data = open(filename).read()"
   ]
  },
  {
   "cell_type": "code",
   "execution_count": 11,
   "id": "8cd29bc3",
   "metadata": {},
   "outputs": [],
   "source": [
    "# define data process function\n",
    "def process(data):\n",
    "    data = [np.array(d.split('\\n'), dtype=int) for d in data.split('\\n\\n')]\n",
    "    return data\n",
    "\n",
    "data = process(data)"
   ]
  },
  {
   "cell_type": "markdown",
   "id": "c139c7c1",
   "metadata": {},
   "source": [
    "### Part 1"
   ]
  },
  {
   "cell_type": "code",
   "execution_count": 12,
   "id": "df4f984d",
   "metadata": {},
   "outputs": [
    {
     "data": {
      "text/plain": [
       "array([36892, 49932, 56251, 25796, 20937, 54432, 51250, 45371, 58484,\n",
       "       51796, 54378, 49130, 37414, 55961, 56785, 47661, 34403, 38211,\n",
       "       47458, 18094, 59828, 52554, 52928, 39832, 53636, 37697, 39830,\n",
       "       40575, 45425, 46728, 58627, 63310, 30570, 44742, 34998, 41761,\n",
       "       60603, 39217, 43980, 52868, 44575, 44911, 40716, 55158, 39201,\n",
       "       51988, 27115, 59939, 52118, 22759, 41028,  1880, 50422, 59337,\n",
       "       29702, 48248, 33005, 55050, 42460,  1466, 24116, 56437, 38537,\n",
       "       41865, 39262, 39941, 63998, 54702, 36547, 57771, 43666, 50228,\n",
       "       29339, 54178, 41556, 54467, 50747, 63125, 45042, 53012, 49826,\n",
       "       51746, 46795, 61654, 47090, 53946, 40158, 47638, 48186, 41324,\n",
       "       39063, 54360, 46787, 53685, 54897, 37916, 59736, 29319, 53819,\n",
       "       40027, 65480, 11606, 53201, 40089, 55116, 30385, 31497, 26009,\n",
       "       56685, 32017, 58718, 51782, 68293, 57551, 37295, 58002, 43194,\n",
       "       44783, 41637, 49110, 54216, 43162, 45858, 45796, 38766, 53676,\n",
       "       56815, 46858, 53943, 47454, 56562, 52249, 19825, 41820, 49451,\n",
       "       59150, 50844, 51365, 32765, 48460, 62441, 38912, 68501, 48559,\n",
       "       35365, 20303, 34589, 29868, 36785, 10679, 50726, 55088, 53675,\n",
       "       52821, 53328, 46013, 43212, 42609, 37129, 43755, 47412, 60715,\n",
       "       51628, 53404, 50732, 44734, 43525, 20207, 62995, 44383, 45594,\n",
       "       50416, 48826, 55100, 37459, 49302, 19691, 69310, 52418, 53360,\n",
       "       52373, 45688, 47598, 22191, 60452, 24453, 35635, 33271, 52064,\n",
       "       50653, 52530, 55568, 54895, 43355, 45682, 59796, 32010, 22407,\n",
       "       52792, 49289, 61460, 60131, 29469, 59882, 50800, 48741, 40896,\n",
       "       34738, 32877, 64548, 38374, 46696, 56112, 46879, 55186, 46459,\n",
       "       55716,  8736, 33995, 38109, 57121, 35675, 57466, 57566, 47744,\n",
       "       50869, 56364, 57229, 20318, 42993, 28770, 39303, 38810, 55200,\n",
       "       48081, 44264, 54863, 52663, 56464, 62161, 48916, 27081, 38536,\n",
       "        5379, 55922, 36759, 40272, 52590, 49098])"
      ]
     },
     "execution_count": 12,
     "metadata": {},
     "output_type": "execute_result"
    }
   ],
   "source": [
    "# list comprehension for sum of \n",
    "cal_sum = np.array([np.sum(d) for d in data])\n",
    "cal_sum"
   ]
  },
  {
   "cell_type": "code",
   "execution_count": 13,
   "id": "fde504e1",
   "metadata": {},
   "outputs": [
    {
     "data": {
      "text/plain": [
       "69310"
      ]
     },
     "execution_count": 13,
     "metadata": {},
     "output_type": "execute_result"
    }
   ],
   "source": [
    "# find max value\n",
    "result1 = cal_sum[np.argmax(cal_sum)]\n",
    "result1"
   ]
  },
  {
   "cell_type": "markdown",
   "id": "57aeb36a",
   "metadata": {},
   "source": [
    "### Part 2"
   ]
  },
  {
   "cell_type": "code",
   "execution_count": 14,
   "id": "04581395",
   "metadata": {},
   "outputs": [
    {
     "data": {
      "text/plain": [
       "206104"
      ]
     },
     "execution_count": 14,
     "metadata": {},
     "output_type": "execute_result"
    }
   ],
   "source": [
    "# sort list in descending order, choose first three elements, calculate sum\n",
    "result2 = sum(np.sort(cal_sum)[::-1][0:3])\n",
    "result2"
   ]
  }
 ],
 "metadata": {
  "kernelspec": {
   "display_name": "Python 3 (ipykernel)",
   "language": "python",
   "name": "python3"
  },
  "language_info": {
   "codemirror_mode": {
    "name": "ipython",
    "version": 3
   },
   "file_extension": ".py",
   "mimetype": "text/x-python",
   "name": "python",
   "nbconvert_exporter": "python",
   "pygments_lexer": "ipython3",
   "version": "3.9.12"
  }
 },
 "nbformat": 4,
 "nbformat_minor": 5
}
