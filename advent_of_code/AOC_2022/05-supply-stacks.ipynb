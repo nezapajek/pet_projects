{
 "cells": [
  {
   "cell_type": "markdown",
   "id": "a994289f",
   "metadata": {},
   "source": [
    "### Day 5: Supply Stacks"
   ]
  },
  {
   "cell_type": "code",
   "execution_count": 3,
   "id": "d412572d",
   "metadata": {},
   "outputs": [],
   "source": [
    "import re\n",
    "import numpy as np"
   ]
  },
  {
   "cell_type": "code",
   "execution_count": 77,
   "id": "36f64340",
   "metadata": {},
   "outputs": [],
   "source": [
    "# import data\n",
    "#filename = '05_test.txt'\n",
    "filename = '05_data.txt'\n",
    "raw = open(f'./data/{filename}').read()"
   ]
  },
  {
   "cell_type": "code",
   "execution_count": 78,
   "id": "7a7f5b91",
   "metadata": {},
   "outputs": [],
   "source": [
    "def parse(raw): \n",
    "    stacks_str, orders_str = raw.split('\\n\\n') #split into two main chunks\n",
    "    \n",
    "    orders = [] #empty list\n",
    "    for o in orders_str.splitlines(): \n",
    "        amount, key, to = re.findall(r'(\\d+) from (\\d+) to (\\d+)', o).pop() #pull numbers\n",
    "        orders.append((int(amount), key, to)) #append to list\n",
    "    \n",
    "    stacks_frag = list(zip(*stacks_str.splitlines())) #unpack each char\n",
    "    stacks = {} #empty dict\n",
    "    for line in stacks_frag[1::4]: #keep every fourth line, starting with second\n",
    "        stack = list(s for s in line if s !=' ') #ignore the ' '\n",
    "        key = stack.pop() #return the removed value\n",
    "        stack.reverse() #reverse order\n",
    "        stacks[key] = stack #fill dict\n",
    "    return stacks, orders"
   ]
  },
  {
   "cell_type": "code",
   "execution_count": 83,
   "id": "1468249a",
   "metadata": {},
   "outputs": [],
   "source": [
    "def crate_mover_9000(stacks, orders):\n",
    "    stacks = deepcopy(stacks)\n",
    "    for amount, key, to in orders:\n",
    "        for _ in range(amount):\n",
    "            stacks[to].append(stacks[key].pop())\n",
    "    return ''.join(map(list.pop, stacks.values()))"
   ]
  },
  {
   "cell_type": "code",
   "execution_count": 88,
   "id": "6091b302",
   "metadata": {},
   "outputs": [],
   "source": [
    "def crate_mover_9001(stacks, orders):\n",
    "    for amount, key, to in orders:\n",
    "        take_from = stacks[key]\n",
    "        stacks[to].extend(take_from[-amount:])\n",
    "        stacks[key] = take_from[:-amount]\n",
    "    return ''.join(map(list.pop, stacks.values()))"
   ]
  },
  {
   "cell_type": "code",
   "execution_count": 89,
   "id": "a8c6e01a",
   "metadata": {},
   "outputs": [
    {
     "data": {
      "text/plain": [
       "'QMBMJDFTD'"
      ]
     },
     "execution_count": 89,
     "metadata": {},
     "output_type": "execute_result"
    }
   ],
   "source": [
    "stacks, orders = parse(raw)\n",
    "crate_mover_9000(stacks, orders)"
   ]
  },
  {
   "cell_type": "code",
   "execution_count": 90,
   "id": "83eca1f7",
   "metadata": {},
   "outputs": [
    {
     "data": {
      "text/plain": [
       "'NBTVTJNFJ'"
      ]
     },
     "execution_count": 90,
     "metadata": {},
     "output_type": "execute_result"
    }
   ],
   "source": [
    "crate_mover_9001(stacks, orders)"
   ]
  },
  {
   "cell_type": "markdown",
   "id": "031b2b3e",
   "metadata": {},
   "source": [
    "### The Making Of"
   ]
  },
  {
   "cell_type": "code",
   "execution_count": 8,
   "id": "3b363df9",
   "metadata": {},
   "outputs": [
    {
     "data": {
      "text/plain": [
       "[array([1, 2, 1]), array([3, 1, 3]), array([2, 2, 1]), array([1, 1, 2])]"
      ]
     },
     "execution_count": 8,
     "metadata": {},
     "output_type": "execute_result"
    }
   ],
   "source": [
    "# split into two strings\n",
    "stacks_str, orders_str = raw.split('\\n\\n')\n",
    "# split orders into strings\n",
    "orders = orders_str.split('\\n')\n",
    "# keep only numbers with re\n",
    "[np.array(re.findall('[0-9]+', o), dtype = int) for o in orders]"
   ]
  },
  {
   "cell_type": "code",
   "execution_count": 9,
   "id": "e66bc01c",
   "metadata": {},
   "outputs": [
    {
     "data": {
      "text/plain": [
       "[(' ', '[', '[', ' '),\n",
       " (' ', 'N', 'Z', '1'),\n",
       " (' ', ']', ']', ' '),\n",
       " (' ', ' ', ' ', ' '),\n",
       " ('[', '[', '[', ' '),\n",
       " ('D', 'C', 'M', '2'),\n",
       " (']', ']', ']', ' '),\n",
       " (' ', ' ', ' ', ' '),\n",
       " (' ', ' ', '[', ' '),\n",
       " (' ', ' ', 'P', '3'),\n",
       " (' ', ' ', ']', ' ')]"
      ]
     },
     "execution_count": 9,
     "metadata": {},
     "output_type": "execute_result"
    }
   ],
   "source": [
    "# separate lines, separate per charachters with zip(*)\n",
    "stacks_frag = list(zip(*stacks_str.splitlines()))\n",
    "list(zip(*stacks_str.splitlines()))"
   ]
  },
  {
   "cell_type": "code",
   "execution_count": 10,
   "id": "c855a292",
   "metadata": {},
   "outputs": [
    {
     "data": {
      "text/plain": [
       "[(' ', 'N', 'Z', '1'), ('D', 'C', 'M', '2'), (' ', ' ', 'P', '3')]"
      ]
     },
     "execution_count": 10,
     "metadata": {},
     "output_type": "execute_result"
    }
   ],
   "source": [
    "# in lines 1, 5 and 9 remove'[' and ']'\n",
    "# start with line 1, every fourth line\n",
    "stacks = [line for line in stacks_frag[1::4]]\n",
    "stacks"
   ]
  },
  {
   "cell_type": "code",
   "execution_count": 11,
   "id": "1ce0ca66",
   "metadata": {},
   "outputs": [
    {
     "name": "stdout",
     "output_type": "stream",
     "text": [
      "1\n",
      "2\n",
      "3\n"
     ]
    }
   ],
   "source": [
    "# remove ' '\n",
    "# pop() returns removed value\n",
    "for line in stacks:\n",
    "    stack = list(s for s in line if s !=' ')\n",
    "    key = stack.pop(-1)\n",
    "    print(key)"
   ]
  },
  {
   "cell_type": "code",
   "execution_count": 12,
   "id": "e5a85136",
   "metadata": {},
   "outputs": [
    {
     "name": "stdout",
     "output_type": "stream",
     "text": [
      "['Z', 'N']\n",
      "['M', 'C', 'D']\n",
      "['P']\n"
     ]
    }
   ],
   "source": [
    "# make a dict!\n",
    "stacks_dict = {}\n",
    "for line in stacks:\n",
    "    stack = list(s for s in line if s !=' ') # removes ' '\n",
    "    key = stack.pop(-1) # return the removed value\n",
    "    stack.reverse() # reverse order\n",
    "    # fill a dict\n",
    "    print(stack)"
   ]
  }
 ],
 "metadata": {
  "kernelspec": {
   "display_name": "Python 3 (ipykernel)",
   "language": "python",
   "name": "python3"
  },
  "language_info": {
   "codemirror_mode": {
    "name": "ipython",
    "version": 3
   },
   "file_extension": ".py",
   "mimetype": "text/x-python",
   "name": "python",
   "nbconvert_exporter": "python",
   "pygments_lexer": "ipython3",
   "version": "3.9.12"
  }
 },
 "nbformat": 4,
 "nbformat_minor": 5
}
