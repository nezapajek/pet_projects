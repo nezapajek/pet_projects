{
 "cells": [
  {
   "cell_type": "markdown",
   "id": "61a24040",
   "metadata": {},
   "source": [
    "### Tuning trouble - Day 6"
   ]
  },
  {
   "cell_type": "code",
   "execution_count": 53,
   "id": "18f7c1f9",
   "metadata": {},
   "outputs": [],
   "source": [
    "# import data\n",
    "filename = '06_test.txt'\n",
    "#filename = '06_data.txt'\n",
    "raw = open(f'./data/{filename}').read()"
   ]
  },
  {
   "cell_type": "markdown",
   "id": "bd5f0eeb",
   "metadata": {},
   "source": [
    "### PART 1"
   ]
  },
  {
   "cell_type": "markdown",
   "id": "729301ae",
   "metadata": {},
   "source": [
    "#### option 1"
   ]
  },
  {
   "cell_type": "code",
   "execution_count": 55,
   "id": "f7edadfb",
   "metadata": {},
   "outputs": [],
   "source": [
    "def find_start(raw, n):\n",
    "    l = [len(set(list(raw[j:j+n]))) == n for j in range(len(raw))]\n",
    "    for index, val in enumerate(l):\n",
    "        if val:\n",
    "            print(index+n, val)\n",
    "            break"
   ]
  },
  {
   "cell_type": "code",
   "execution_count": 56,
   "id": "83af1576",
   "metadata": {},
   "outputs": [
    {
     "name": "stdout",
     "output_type": "stream",
     "text": [
      "5 True\n"
     ]
    }
   ],
   "source": [
    "find_start(raw, 4)"
   ]
  },
  {
   "cell_type": "markdown",
   "id": "dbc18940",
   "metadata": {},
   "source": [
    "#### option 2 - same same but different"
   ]
  },
  {
   "cell_type": "code",
   "execution_count": 57,
   "id": "0eff46a2",
   "metadata": {},
   "outputs": [],
   "source": [
    "def find_start2(raw, n):\n",
    "    l = [raw[j:j+n] for j in range(len(raw))]\n",
    "    for index, val in enumerate(l):\n",
    "        if len(set(val)) == n:\n",
    "            print(index+n)\n",
    "            break"
   ]
  },
  {
   "cell_type": "code",
   "execution_count": 58,
   "id": "416ab873",
   "metadata": {},
   "outputs": [
    {
     "name": "stdout",
     "output_type": "stream",
     "text": [
      "5\n"
     ]
    }
   ],
   "source": [
    "find_start2(raw, 4)"
   ]
  },
  {
   "cell_type": "markdown",
   "id": "57870735",
   "metadata": {},
   "source": [
    "#### option 3 - first try"
   ]
  },
  {
   "cell_type": "code",
   "execution_count": 59,
   "id": "222779bc",
   "metadata": {},
   "outputs": [
    {
     "name": "stdout",
     "output_type": "stream",
     "text": [
      "5\n"
     ]
    }
   ],
   "source": [
    "j = 1\n",
    "l = []\n",
    "while j < len(raw):\n",
    "    j += 1\n",
    "    l.append(raw[0:j][-5:-1])\n",
    "    \n",
    "for index, val in enumerate(l):\n",
    "    if len(set(val)) == 4:\n",
    "        print(index+1)\n",
    "        break"
   ]
  },
  {
   "cell_type": "markdown",
   "id": "49ac9510",
   "metadata": {},
   "source": [
    "### PART 2"
   ]
  },
  {
   "cell_type": "code",
   "execution_count": 61,
   "id": "c9d2ced2",
   "metadata": {},
   "outputs": [
    {
     "name": "stdout",
     "output_type": "stream",
     "text": [
      "23\n"
     ]
    }
   ],
   "source": [
    "find_start2(raw, 14)"
   ]
  }
 ],
 "metadata": {
  "kernelspec": {
   "display_name": "Python 3 (ipykernel)",
   "language": "python",
   "name": "python3"
  },
  "language_info": {
   "codemirror_mode": {
    "name": "ipython",
    "version": 3
   },
   "file_extension": ".py",
   "mimetype": "text/x-python",
   "name": "python",
   "nbconvert_exporter": "python",
   "pygments_lexer": "ipython3",
   "version": "3.9.12"
  }
 },
 "nbformat": 4,
 "nbformat_minor": 5
}
