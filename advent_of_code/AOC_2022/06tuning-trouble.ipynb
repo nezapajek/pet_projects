{
 "cells": [
  {
   "cell_type": "markdown",
   "id": "61a24040",
   "metadata": {},
   "source": [
    "### Tuning trouble - Day 6"
   ]
  },
  {
   "cell_type": "code",
   "execution_count": 61,
   "id": "18f7c1f9",
   "metadata": {},
   "outputs": [],
   "source": [
    "# import data\n",
    "#filename = '06_test.txt'\n",
    "filename = '06_data.txt'\n",
    "raw = open(f'./data/{filename}').read()"
   ]
  },
  {
   "cell_type": "markdown",
   "id": "729301ae",
   "metadata": {},
   "source": [
    "### Part 1"
   ]
  },
  {
   "cell_type": "code",
   "execution_count": 64,
   "id": "f7edadfb",
   "metadata": {},
   "outputs": [
    {
     "name": "stdout",
     "output_type": "stream",
     "text": [
      "1802\n"
     ]
    }
   ],
   "source": [
    "j = 1\n",
    "l = []\n",
    "while j < len(raw):\n",
    "    j += 1\n",
    "    l.append(raw[0:j][-5:-1])\n",
    "    \n",
    "for index, val in enumerate(l):\n",
    "    if len(set(val)) == 4:\n",
    "        print(index+1)\n",
    "        break"
   ]
  },
  {
   "cell_type": "markdown",
   "id": "d53aa59d",
   "metadata": {},
   "source": [
    "### Part 2"
   ]
  },
  {
   "cell_type": "code",
   "execution_count": 65,
   "id": "e7907059",
   "metadata": {},
   "outputs": [
    {
     "name": "stdout",
     "output_type": "stream",
     "text": [
      "3551\n"
     ]
    }
   ],
   "source": [
    "j = 1\n",
    "l = []\n",
    "while j < len(raw):\n",
    "    j += 1\n",
    "    l.append(raw[0:j][-15:-1])\n",
    "    \n",
    "for index, val in enumerate(l):\n",
    "    if len(set(val)) == 14:\n",
    "        print(index+1)\n",
    "        break"
   ]
  }
 ],
 "metadata": {
  "kernelspec": {
   "display_name": "Python 3 (ipykernel)",
   "language": "python",
   "name": "python3"
  },
  "language_info": {
   "codemirror_mode": {
    "name": "ipython",
    "version": 3
   },
   "file_extension": ".py",
   "mimetype": "text/x-python",
   "name": "python",
   "nbconvert_exporter": "python",
   "pygments_lexer": "ipython3",
   "version": "3.9.12"
  }
 },
 "nbformat": 4,
 "nbformat_minor": 5
}
