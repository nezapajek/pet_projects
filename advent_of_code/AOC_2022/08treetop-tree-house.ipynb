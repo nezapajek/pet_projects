{
 "cells": [
  {
   "cell_type": "markdown",
   "id": "af593d09",
   "metadata": {},
   "source": [
    "### Day 8 - Treetop Tree House"
   ]
  },
  {
   "cell_type": "code",
   "execution_count": 305,
   "id": "80dae1a1",
   "metadata": {},
   "outputs": [],
   "source": [
    "import numpy as np"
   ]
  },
  {
   "cell_type": "code",
   "execution_count": 306,
   "id": "efe24a5d",
   "metadata": {},
   "outputs": [],
   "source": [
    "# import data\n",
    "#filename = '08_test.txt'\n",
    "filename = '08_data.txt'\n",
    "raw = open(f'./data/{filename}').read()"
   ]
  },
  {
   "cell_type": "code",
   "execution_count": 307,
   "id": "1916e389",
   "metadata": {
    "scrolled": true
   },
   "outputs": [
    {
     "data": {
      "text/plain": [
       "array([[3, 2, 3, ..., 1, 0, 0],\n",
       "       [3, 3, 1, ..., 0, 1, 2],\n",
       "       [0, 2, 3, ..., 2, 3, 2],\n",
       "       ...,\n",
       "       [1, 1, 0, ..., 1, 2, 3],\n",
       "       [0, 0, 1, ..., 2, 0, 3],\n",
       "       [1, 1, 0, ..., 2, 2, 1]])"
      ]
     },
     "execution_count": 307,
     "metadata": {},
     "output_type": "execute_result"
    }
   ],
   "source": [
    "def parse_data(data):\n",
    "    data = raw.split('\\n')\n",
    "    data = [list(x) for x in data]\n",
    "    return np.array(data, dtype=int)\n",
    "\n",
    "data = parse_data(raw)\n",
    "data"
   ]
  },
  {
   "cell_type": "code",
   "execution_count": 308,
   "id": "faee290c",
   "metadata": {},
   "outputs": [],
   "source": [
    "def check_trees(data, i, j):\n",
    "    el = data[i,j]\n",
    "    lc = all(el > data[i,:j])\n",
    "    rc = all(el > data[i,j+1:])\n",
    "    uc = all(el > data[:i, j])\n",
    "    dc = all(el > data[i+1:, j])\n",
    "\n",
    "    return any([lc, rc, uc, dc])     "
   ]
  },
  {
   "cell_type": "code",
   "execution_count": 309,
   "id": "51fbe919",
   "metadata": {},
   "outputs": [
    {
     "name": "stdout",
     "output_type": "stream",
     "text": [
      "[[1 1 1 ... 1 1 1]\n",
      " [1 1 0 ... 0 1 1]\n",
      " [1 1 1 ... 1 1 1]\n",
      " ...\n",
      " [1 0 0 ... 0 0 1]\n",
      " [1 0 1 ... 0 0 1]\n",
      " [1 1 1 ... 1 1 1]]\n"
     ]
    },
    {
     "data": {
      "text/plain": [
       "1695"
      ]
     },
     "execution_count": 309,
     "metadata": {},
     "output_type": "execute_result"
    }
   ],
   "source": [
    "n, m = data.shape\n",
    "mask = np.zeros_like(data)\n",
    "\n",
    "for i in range(0,n):\n",
    "    for j in range(0,m):\n",
    "        if check_trees(data, i, j):\n",
    "            mask[i, j] = True\n",
    "print(mask)\n",
    "np.sum(mask)"
   ]
  },
  {
   "cell_type": "markdown",
   "id": "14070e14",
   "metadata": {},
   "source": [
    "### Part 2"
   ]
  },
  {
   "cell_type": "code",
   "execution_count": 324,
   "id": "cecf4cd4",
   "metadata": {},
   "outputs": [],
   "source": [
    "def tree_score(data, i, j):\n",
    "    el = data[i,j]\n",
    "    trees_list = [data[i,:j][::-1], data[i,j+1:], data[:i, j][::-1], data[i+1:, j]]\n",
    "    distance = []\n",
    "    for trees in trees_list:\n",
    "        dis = 0\n",
    "        for d in trees:\n",
    "            dis += 1\n",
    "            if el <= d:\n",
    "                break\n",
    "        distance.append(dis)\n",
    "    return np.prod(distance)"
   ]
  },
  {
   "cell_type": "code",
   "execution_count": 326,
   "id": "0892af2e",
   "metadata": {},
   "outputs": [
    {
     "data": {
      "text/plain": [
       "287040"
      ]
     },
     "execution_count": 326,
     "metadata": {},
     "output_type": "execute_result"
    }
   ],
   "source": [
    "n, m = data.shape\n",
    "score = []\n",
    "\n",
    "for i in range(0,n):\n",
    "    for j in range(0,m):\n",
    "            score.append(tree_score(data, i, j))\n",
    "\n",
    "max(score)      "
   ]
  }
 ],
 "metadata": {
  "kernelspec": {
   "display_name": "Python 3 (ipykernel)",
   "language": "python",
   "name": "python3"
  },
  "language_info": {
   "codemirror_mode": {
    "name": "ipython",
    "version": 3
   },
   "file_extension": ".py",
   "mimetype": "text/x-python",
   "name": "python",
   "nbconvert_exporter": "python",
   "pygments_lexer": "ipython3",
   "version": "3.9.12"
  }
 },
 "nbformat": 4,
 "nbformat_minor": 5
}
