{
 "cells": [
  {
   "cell_type": "markdown",
   "id": "ef3789ef",
   "metadata": {},
   "source": [
    "# AOC - Day two"
   ]
  },
  {
   "cell_type": "code",
   "execution_count": 171,
   "id": "653c6444",
   "metadata": {},
   "outputs": [],
   "source": [
    "# import data\n",
    "#filename = '02_test.txt'\n",
    "filename = '02_data.txt'\n",
    "data = open(filename).read()"
   ]
  },
  {
   "cell_type": "code",
   "execution_count": 172,
   "id": "0d34fa14",
   "metadata": {},
   "outputs": [],
   "source": [
    "# define data process function\n",
    "def process(data):\n",
    "    data = data.split('\\n')\n",
    "    return data\n",
    "\n",
    "# process data\n",
    "data = process(data)"
   ]
  },
  {
   "cell_type": "markdown",
   "id": "7d663a35",
   "metadata": {},
   "source": [
    "### Part 1"
   ]
  },
  {
   "cell_type": "markdown",
   "id": "6dfc1886",
   "metadata": {},
   "source": [
    "### option 1 - pretty"
   ]
  },
  {
   "cell_type": "code",
   "execution_count": 173,
   "id": "dc9c1cc5",
   "metadata": {},
   "outputs": [],
   "source": [
    "# make dictionary, assign result values to keys\n",
    "values = {\n",
    "    'B X':1,\n",
    "    'C Y':2,\n",
    "    'A Z':3,\n",
    "    'A X':4,\n",
    "    'B Y':5,\n",
    "    'C Z':6,\n",
    "    'C X':7,\n",
    "    'A Y':8,\n",
    "    'B Z':9\n",
    "}"
   ]
  },
  {
   "cell_type": "code",
   "execution_count": 174,
   "id": "ae260396",
   "metadata": {
    "scrolled": false
   },
   "outputs": [
    {
     "data": {
      "text/plain": [
       "14375"
      ]
     },
     "execution_count": 174,
     "metadata": {},
     "output_type": "execute_result"
    }
   ],
   "source": [
    "# call values for keys == list elements\n",
    "score = [values[d] for d in data]\n",
    "sum(score)"
   ]
  },
  {
   "cell_type": "markdown",
   "id": "3653bc5c",
   "metadata": {},
   "source": [
    "### option 2 - fugly"
   ]
  },
  {
   "cell_type": "code",
   "execution_count": 175,
   "id": "4801b602",
   "metadata": {},
   "outputs": [],
   "source": [
    "data1 = [1 if item == 'B X' else item for item in data]\n",
    "data1 = [2 if item == 'C Y' else item for item in data1]\n",
    "data1 = [3 if item == 'A Z' else item for item in data1]\n",
    "data1 = [4 if item == 'A X' else item for item in data1]\n",
    "data1 = [5 if item == 'B Y' else item for item in data1]\n",
    "data1 = [6 if item == 'C Z' else item for item in data1]\n",
    "data1 = [7 if item == 'C X' else item for item in data1]\n",
    "data1 = [8 if item == 'A Y' else item for item in data1]\n",
    "data1 = [9 if item == 'B Z' else item for item in data1]"
   ]
  },
  {
   "cell_type": "code",
   "execution_count": 176,
   "id": "4becf559",
   "metadata": {},
   "outputs": [
    {
     "data": {
      "text/plain": [
       "14375"
      ]
     },
     "execution_count": 176,
     "metadata": {},
     "output_type": "execute_result"
    }
   ],
   "source": [
    "sum(data1)"
   ]
  },
  {
   "cell_type": "markdown",
   "id": "de567037",
   "metadata": {},
   "source": [
    "### Part 2\n",
    "\n",
    "X = lose \\\n",
    "Y = draw \\\n",
    "Z = win"
   ]
  },
  {
   "cell_type": "code",
   "execution_count": 178,
   "id": "60186e1b",
   "metadata": {},
   "outputs": [],
   "source": [
    "# make dictionary, assign result values to keys\n",
    "vals = {\n",
    "    'B X':1,\n",
    "    'C Y':6,\n",
    "    'A Z':8,\n",
    "    'A X':3,\n",
    "    'B Y':5,\n",
    "    'C Z':7,\n",
    "    'C X':2,\n",
    "    'A Y':4,\n",
    "    'B Z':9\n",
    "}"
   ]
  },
  {
   "cell_type": "code",
   "execution_count": 179,
   "id": "8b27baee",
   "metadata": {},
   "outputs": [
    {
     "data": {
      "text/plain": [
       "10274"
      ]
     },
     "execution_count": 179,
     "metadata": {},
     "output_type": "execute_result"
    }
   ],
   "source": [
    "# call values for keys == list elements\n",
    "score = [vals[d] for d in data]\n",
    "sum(score)"
   ]
  }
 ],
 "metadata": {
  "kernelspec": {
   "display_name": "Python 3 (ipykernel)",
   "language": "python",
   "name": "python3"
  },
  "language_info": {
   "codemirror_mode": {
    "name": "ipython",
    "version": 3
   },
   "file_extension": ".py",
   "mimetype": "text/x-python",
   "name": "python",
   "nbconvert_exporter": "python",
   "pygments_lexer": "ipython3",
   "version": "3.9.12"
  }
 },
 "nbformat": 4,
 "nbformat_minor": 5
}
