{
 "cells": [
  {
   "cell_type": "markdown",
   "metadata": {},
   "source": [
    "# 3.2. test data\n",
    "import data"
   ]
  },
  {
   "cell_type": "code",
   "execution_count": 37,
   "metadata": {},
   "outputs": [],
   "source": [
    "import numpy as np\n",
    "import pandas as pd\n",
    "filename = '03_input.txt'\n",
    "test = np.loadtxt(filename, dtype = str)"
   ]
  },
  {
   "cell_type": "markdown",
   "metadata": {},
   "source": [
    "list comprehension"
   ]
  },
  {
   "cell_type": "code",
   "execution_count": 38,
   "metadata": {},
   "outputs": [
    {
     "data": {
      "text/plain": [
       "array([['0', '1', '1', ..., '1', '1', '0'],\n",
       "       ['1', '0', '1', ..., '1', '1', '1'],\n",
       "       ['0', '0', '0', ..., '1', '0', '1'],\n",
       "       ...,\n",
       "       ['0', '1', '1', ..., '0', '0', '0'],\n",
       "       ['0', '0', '1', ..., '0', '1', '1'],\n",
       "       ['1', '1', '0', ..., '0', '1', '1']], dtype='<U1')"
      ]
     },
     "execution_count": 38,
     "metadata": {},
     "output_type": "execute_result"
    }
   ],
   "source": [
    "test = [list(el) for el in test] #list comprehension\n",
    "test = np.array(test)\n",
    "test"
   ]
  },
  {
   "cell_type": "code",
   "execution_count": 45,
   "metadata": {},
   "outputs": [
    {
     "data": {
      "text/plain": [
       "[(array(['0', '1'], dtype='<U1'), array([506, 494])),\n",
       " (array(['0', '1'], dtype='<U1'), array([502, 498])),\n",
       " (array(['0', '1'], dtype='<U1'), array([519, 481])),\n",
       " (array(['0', '1'], dtype='<U1'), array([506, 494])),\n",
       " (array(['0', '1'], dtype='<U1'), array([477, 523])),\n",
       " (array(['0', '1'], dtype='<U1'), array([492, 508])),\n",
       " (array(['0', '1'], dtype='<U1'), array([512, 488])),\n",
       " (array(['0', '1'], dtype='<U1'), array([509, 491])),\n",
       " (array(['0', '1'], dtype='<U1'), array([501, 499])),\n",
       " (array(['0', '1'], dtype='<U1'), array([493, 507])),\n",
       " (array(['0', '1'], dtype='<U1'), array([470, 530])),\n",
       " (array(['0', '1'], dtype='<U1'), array([486, 514]))]"
      ]
     },
     "execution_count": 45,
     "metadata": {},
     "output_type": "execute_result"
    }
   ],
   "source": [
    "test_unique = [np.unique(test[:,idx], return_counts=True) for idx in range(0,12)]\n",
    "test_unique"
   ]
  },
  {
   "cell_type": "code",
   "execution_count": 46,
   "metadata": {},
   "outputs": [],
   "source": [
    "def extract_most_common(tup):\n",
    "    x,y = tup\n",
    "    if y[0] > y[1]:\n",
    "        gam = x[0]\n",
    "    else:\n",
    "        gam = x[1]\n",
    "    return gam"
   ]
  },
  {
   "cell_type": "code",
   "execution_count": 47,
   "metadata": {},
   "outputs": [
    {
     "data": {
      "text/plain": [
       "['0', '0', '0', '0', '1', '1', '0', '0', '0', '1', '1', '1']"
      ]
     },
     "execution_count": 47,
     "metadata": {},
     "output_type": "execute_result"
    }
   ],
   "source": [
    "gamma = []\n",
    "for x in test_unique:\n",
    "    gamma.append(extract_most_common(x))\n",
    "\n",
    "gamma"
   ]
  },
  {
   "cell_type": "code",
   "execution_count": 48,
   "metadata": {},
   "outputs": [],
   "source": [
    "def extract_least_common(tup):\n",
    "    x,y = tup\n",
    "    if y[0] < y[1]:\n",
    "        gam = x[0]\n",
    "    else:\n",
    "        gam = x[1]\n",
    "    return gam"
   ]
  },
  {
   "cell_type": "code",
   "execution_count": 49,
   "metadata": {},
   "outputs": [
    {
     "data": {
      "text/plain": [
       "['1', '1', '1', '1', '0', '0', '1', '1', '1', '0', '0', '0']"
      ]
     },
     "execution_count": 49,
     "metadata": {},
     "output_type": "execute_result"
    }
   ],
   "source": [
    "epsilon = []\n",
    "for x in test_unique:\n",
    "    epsilon.append(extract_least_common(x))\n",
    "\n",
    "epsilon"
   ]
  },
  {
   "cell_type": "code",
   "execution_count": 50,
   "metadata": {},
   "outputs": [
    {
     "data": {
      "text/plain": [
       "775304"
      ]
     },
     "execution_count": 50,
     "metadata": {},
     "output_type": "execute_result"
    }
   ],
   "source": [
    "gammanum = ''.join(gamma)\n",
    "epsilonnum = ''.join(epsilon)\n",
    "int(gammanum, 2)*int(epsilonnum, 2)"
   ]
  },
  {
   "cell_type": "code",
   "execution_count": 51,
   "metadata": {},
   "outputs": [],
   "source": [
    "def extract_most_common_part2(candidates, col_idx):\n",
    "    x,y = np.unique(candidates[:,col_idx], return_counts=True)\n",
    "    if y[0] > y[1]:\n",
    "        gam = x[0]\n",
    "    elif y[0] == y[1]:\n",
    "        gam = '1'\n",
    "    else:\n",
    "        gam = x[1]\n",
    "    return gam\n",
    "\n",
    "def extract_least_common_part2(candidates, col_idx):\n",
    "    x,y = np.unique(candidates[:,col_idx], return_counts=True)\n",
    "    if y[0] < y[1]:\n",
    "        gam = x[0]\n",
    "    elif y[0] == y[1]:\n",
    "        gam = '0'\n",
    "    else:\n",
    "        gam = x[1]\n",
    "    return gam"
   ]
  },
  {
   "cell_type": "markdown",
   "metadata": {},
   "source": [
    "def extract_most_common_part2(candidates, col_idx):\n",
    "    x,y = np.unique(candidates[:,col_idx], return_counts=True)\n",
    "    if y[0] > y[1]:\n",
    "        return x[0]\n",
    "    if y[0] == y[1]:\n",
    "        return '1'\n",
    "    return x[1]\n",
    "    "
   ]
  },
  {
   "cell_type": "code",
   "execution_count": 52,
   "metadata": {},
   "outputs": [
    {
     "data": {
      "text/plain": [
       "[array(['0', '0', '0', '1', '1', '1', '1', '1', '1', '1', '0', '1'],\n",
       "       dtype='<U1')]"
      ]
     },
     "execution_count": 52,
     "metadata": {},
     "output_type": "execute_result"
    }
   ],
   "source": [
    "te = test.copy()\n",
    "\n",
    "col_idx = 0\n",
    "while len(te) > 1:\n",
    "    ds = []\n",
    "    gamma = extract_most_common_part2(te, col_idx)\n",
    "    for x in te:\n",
    "        if x[col_idx] == gamma:\n",
    "            ds.append(x)\n",
    "    te = np.array(ds.copy())\n",
    "    col_idx += 1\n",
    "\n",
    "ds"
   ]
  },
  {
   "cell_type": "code",
   "execution_count": 53,
   "metadata": {},
   "outputs": [
    {
     "data": {
      "text/plain": [
       "[array(['1', '0', '1', '0', '1', '0', '0', '0', '0', '1', '0', '1'],\n",
       "       dtype='<U1')]"
      ]
     },
     "execution_count": 53,
     "metadata": {},
     "output_type": "execute_result"
    }
   ],
   "source": [
    "te = test.copy()\n",
    "\n",
    "col_idx = 0\n",
    "while len(te) > 1:\n",
    "    de = []\n",
    "    epsilon = extract_least_common_part2(te, col_idx)\n",
    "    for x in te:\n",
    "        if x[col_idx] == epsilon:\n",
    "            de.append(x)\n",
    "    te = np.array(de.copy())\n",
    "    col_idx += 1\n",
    "\n",
    "de"
   ]
  },
  {
   "cell_type": "code",
   "execution_count": 54,
   "metadata": {},
   "outputs": [],
   "source": [
    "oxynum = ''.join(ds[0])\n",
    "co2num = ''.join(de[0])"
   ]
  },
  {
   "cell_type": "code",
   "execution_count": 55,
   "metadata": {},
   "outputs": [
    {
     "data": {
      "text/plain": [
       "1370737"
      ]
     },
     "execution_count": 55,
     "metadata": {},
     "output_type": "execute_result"
    }
   ],
   "source": [
    "int(oxynum, 2) * int(co2num, 2)"
   ]
  }
 ],
 "metadata": {
  "interpreter": {
   "hash": "b8488343e509b415c98a857491a9b4c90395f9a45992da0bb6102fdf120e22ce"
  },
  "kernelspec": {
   "display_name": "Python 3.9.6 32-bit",
   "language": "python",
   "name": "python3"
  },
  "language_info": {
   "codemirror_mode": {
    "name": "ipython",
    "version": 3
   },
   "file_extension": ".py",
   "mimetype": "text/x-python",
   "name": "python",
   "nbconvert_exporter": "python",
   "pygments_lexer": "ipython3",
   "version": "3.9.6"
  },
  "orig_nbformat": 4
 },
 "nbformat": 4,
 "nbformat_minor": 2
}
