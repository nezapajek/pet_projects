{
 "cells": [
  {
   "cell_type": "markdown",
   "metadata": {},
   "source": [
    "# day 4 part 1"
   ]
  },
  {
   "cell_type": "code",
   "execution_count": 34,
   "metadata": {},
   "outputs": [],
   "source": [
    "import numpy as np\n",
    "import pandas as pd\n",
    "import re"
   ]
  },
  {
   "cell_type": "code",
   "execution_count": 171,
   "metadata": {},
   "outputs": [],
   "source": [
    "def prepare_dataset(filename):\n",
    "    numbers_str, *boards_str = open(filename).read().split('\\n\\n')\n",
    "    numbers = np.array(numbers_str.split(','), dtype= 'int')\n",
    "    boards = [np.array([re.split('\\s+', el.strip()) for el in temp.split('\\n')], dtype='int') for temp in boards_str]\n",
    "    return numbers, boards"
   ]
  },
  {
   "cell_type": "code",
   "execution_count": 123,
   "metadata": {},
   "outputs": [],
   "source": [
    "numbers, boards = prepare_dataset('04_test-input.txt')"
   ]
  },
  {
   "cell_type": "code",
   "execution_count": 124,
   "metadata": {},
   "outputs": [
    {
     "data": {
      "text/plain": [
       "array([ 7,  4,  9,  5, 11, 17, 23,  2,  0, 14, 21, 24, 10, 16, 13,  6, 15,\n",
       "       25, 12, 22, 18, 20,  8, 19,  3, 26,  1])"
      ]
     },
     "execution_count": 124,
     "metadata": {},
     "output_type": "execute_result"
    }
   ],
   "source": [
    "numbers"
   ]
  },
  {
   "cell_type": "code",
   "execution_count": 125,
   "metadata": {},
   "outputs": [
    {
     "data": {
      "text/plain": [
       "[array([[22, 13, 17, 11,  0],\n",
       "        [ 8,  2, 23,  4, 24],\n",
       "        [21,  9, 14, 16,  7],\n",
       "        [ 6, 10,  3, 18,  5],\n",
       "        [ 1, 12, 20, 15, 19]]),\n",
       " array([[ 3, 15,  0,  2, 22],\n",
       "        [ 9, 18, 13, 17,  5],\n",
       "        [19,  8,  7, 25, 23],\n",
       "        [20, 11, 10, 24,  4],\n",
       "        [14, 21, 16, 12,  6]]),\n",
       " array([[14, 21, 17, 24,  4],\n",
       "        [10, 16, 15,  9, 19],\n",
       "        [18,  8, 23, 26, 20],\n",
       "        [22, 11, 13,  6,  5],\n",
       "        [ 2,  0, 12,  3,  7]])]"
      ]
     },
     "execution_count": 125,
     "metadata": {},
     "output_type": "execute_result"
    }
   ],
   "source": [
    "boards"
   ]
  },
  {
   "cell_type": "code",
   "execution_count": 100,
   "metadata": {},
   "outputs": [
    {
     "data": {
      "text/plain": [
       "array([[0, 0, 0, 0, 0],\n",
       "       [0, 0, 0, 0, 0],\n",
       "       [0, 0, 0, 0, 0],\n",
       "       [0, 0, 0, 0, 0],\n",
       "       [0, 0, 0, 0, 0]])"
      ]
     },
     "execution_count": 100,
     "metadata": {},
     "output_type": "execute_result"
    }
   ],
   "source": [
    "# create marks\n",
    "marks = [np.zeros_like(board) for board in boards]\n",
    "\n",
    "m = marks[0].copy()\n",
    "\n",
    "\n",
    "# set to 1 at (row, col) = (2, 1) \n",
    "# tretja vrstica, drugi stolpec\n",
    "# m[2,1] = 0\n",
    "\n",
    "m"
   ]
  },
  {
   "cell_type": "code",
   "execution_count": 40,
   "metadata": {},
   "outputs": [
    {
     "data": {
      "text/plain": [
       "1"
      ]
     },
     "execution_count": 40,
     "metadata": {},
     "output_type": "execute_result"
    }
   ],
   "source": [
    "# select element\n",
    "# m[row, col]\n",
    "\n",
    "m[2, 1]\n"
   ]
  },
  {
   "cell_type": "code",
   "execution_count": 41,
   "metadata": {},
   "outputs": [
    {
     "data": {
      "text/plain": [
       "array([0, 1, 0, 0, 0])"
      ]
     },
     "execution_count": 41,
     "metadata": {},
     "output_type": "execute_result"
    }
   ],
   "source": [
    "# select full row\n",
    "# m[row]\n",
    "\n",
    "m[2]"
   ]
  },
  {
   "cell_type": "code",
   "execution_count": 42,
   "metadata": {},
   "outputs": [
    {
     "data": {
      "text/plain": [
       "array([0, 0, 1, 0, 0])"
      ]
     },
     "execution_count": 42,
     "metadata": {},
     "output_type": "execute_result"
    }
   ],
   "source": [
    "# select full column\n",
    "# m[:, col]\n",
    "\n",
    "m[:, 1]"
   ]
  },
  {
   "cell_type": "code",
   "execution_count": 43,
   "metadata": {},
   "outputs": [
    {
     "data": {
      "text/plain": [
       "False"
      ]
     },
     "execution_count": 43,
     "metadata": {},
     "output_type": "execute_result"
    }
   ],
   "source": [
    "# check if whole col is True\n",
    "all(m[:, 1] == 1)"
   ]
  },
  {
   "cell_type": "code",
   "execution_count": 44,
   "metadata": {},
   "outputs": [
    {
     "data": {
      "text/plain": [
       "False"
      ]
     },
     "execution_count": 44,
     "metadata": {},
     "output_type": "execute_result"
    }
   ],
   "source": [
    "# check if whole col OR whole row is True\n",
    "all(m[:, 1] == 1) or all(m[2] == 1)"
   ]
  },
  {
   "cell_type": "code",
   "execution_count": 45,
   "metadata": {},
   "outputs": [
    {
     "data": {
      "text/plain": [
       "7"
      ]
     },
     "execution_count": 45,
     "metadata": {},
     "output_type": "execute_result"
    }
   ],
   "source": [
    "n = numbers[0]\n",
    "n"
   ]
  },
  {
   "cell_type": "code",
   "execution_count": 53,
   "metadata": {},
   "outputs": [],
   "source": [
    "board = boards[0]"
   ]
  },
  {
   "cell_type": "code",
   "execution_count": 76,
   "metadata": {},
   "outputs": [
    {
     "data": {
      "text/plain": [
       "array([[False, False, False, False, False],\n",
       "       [False, False, False, False, False],\n",
       "       [False, False, False, False,  True],\n",
       "       [False, False, False, False, False],\n",
       "       [False, False, False, False, False]])"
      ]
     },
     "execution_count": 76,
     "metadata": {},
     "output_type": "execute_result"
    }
   ],
   "source": [
    "mask = board == n\n",
    "mask"
   ]
  },
  {
   "cell_type": "code",
   "execution_count": 79,
   "metadata": {},
   "outputs": [],
   "source": [
    "m[mask] = 1"
   ]
  },
  {
   "cell_type": "code",
   "execution_count": 126,
   "metadata": {},
   "outputs": [],
   "source": [
    "def is_bingo(matrix):\n",
    "    if any(np.all(matrix, axis=0)) or any(np.all(matrix, axis=1)):\n",
    "        return True\n",
    "    else:\n",
    "        return False"
   ]
  },
  {
   "cell_type": "code",
   "execution_count": 102,
   "metadata": {},
   "outputs": [],
   "source": [
    "m = marks[0].copy()\n",
    "board = boards[0].copy()\n",
    "for n in numbers:\n",
    "    mask = board == n\n",
    "    m[mask] = 1\n",
    "    if is_bingo(m):\n",
    "        break"
   ]
  },
  {
   "cell_type": "code",
   "execution_count": 103,
   "metadata": {},
   "outputs": [
    {
     "data": {
      "text/plain": [
       "array([[0, 0, 1, 1, 1],\n",
       "       [0, 1, 1, 1, 1],\n",
       "       [1, 1, 1, 1, 1],\n",
       "       [0, 1, 0, 0, 1],\n",
       "       [0, 0, 0, 0, 0]])"
      ]
     },
     "execution_count": 103,
     "metadata": {},
     "output_type": "execute_result"
    }
   ],
   "source": [
    "m"
   ]
  },
  {
   "cell_type": "code",
   "execution_count": 94,
   "metadata": {},
   "outputs": [
    {
     "data": {
      "text/plain": [
       "array([ True,  True,  True,  True,  True])"
      ]
     },
     "execution_count": 94,
     "metadata": {},
     "output_type": "execute_result"
    }
   ],
   "source": [
    "np.all(m, axis=0) # 0 = row, 1 = column if 2d"
   ]
  },
  {
   "cell_type": "code",
   "execution_count": 127,
   "metadata": {},
   "outputs": [],
   "source": [
    "def single_player(numbers, board):\n",
    "    mark = np.zeros_like(board)\n",
    "    for n in numbers:\n",
    "        mask = board == n\n",
    "        mark[mask] = 1\n",
    "        if is_bingo(mark):\n",
    "            break\n",
    "    return mark \n",
    "    "
   ]
  },
  {
   "cell_type": "code",
   "execution_count": null,
   "metadata": {},
   "outputs": [],
   "source": []
  },
  {
   "cell_type": "code",
   "execution_count": 128,
   "metadata": {},
   "outputs": [
    {
     "data": {
      "text/plain": [
       "array([[0, 0, 1, 1, 1],\n",
       "       [0, 1, 1, 1, 1],\n",
       "       [1, 1, 1, 1, 1],\n",
       "       [0, 1, 0, 0, 1],\n",
       "       [0, 0, 0, 0, 0]])"
      ]
     },
     "execution_count": 128,
     "metadata": {},
     "output_type": "execute_result"
    }
   ],
   "source": [
    "single_player(numbers, board)"
   ]
  },
  {
   "cell_type": "code",
   "execution_count": 134,
   "metadata": {},
   "outputs": [],
   "source": [
    "numbers, boards = prepare_dataset('04_test-input.txt')"
   ]
  },
  {
   "cell_type": "code",
   "execution_count": 132,
   "metadata": {},
   "outputs": [],
   "source": [
    "def play_bingo(numbers, boards):\n",
    "    marks = [np.zeros_like(board) for board in boards]\n",
    "    for n in numbers:\n",
    "        for board, mark in zip(boards, marks): #zip combines 2 arrays \n",
    "            mask = board == n\n",
    "            mark[mask] = 1\n",
    "            if is_bingo(mark):\n",
    "                break\n",
    "    return marks"
   ]
  },
  {
   "cell_type": "code",
   "execution_count": 160,
   "metadata": {},
   "outputs": [],
   "source": [
    "def play_bingo(numbers, boards):\n",
    "    marks = [np.zeros_like(board) for board in boards]\n",
    "    for n in numbers:\n",
    "        for idx in range(0, len(boards)):\n",
    "            mask = boards[idx] == n\n",
    "            marks[idx][mask] = 1\n",
    "            if is_bingo(marks[idx]):\n",
    "                unused_numbers_mask = marks[idx] == 0\n",
    "                return sum(boards[idx][unused_numbers_mask])*n\n",
    "              \n",
    "   "
   ]
  },
  {
   "cell_type": "code",
   "execution_count": 161,
   "metadata": {},
   "outputs": [
    {
     "data": {
      "text/plain": [
       "4512"
      ]
     },
     "execution_count": 161,
     "metadata": {},
     "output_type": "execute_result"
    }
   ],
   "source": [
    "play_bingo(numbers, boards)"
   ]
  },
  {
   "cell_type": "code",
   "execution_count": 151,
   "metadata": {},
   "outputs": [
    {
     "data": {
      "text/plain": [
       "array([ 8,  2, 23, 24, 21,  9, 16,  7,  6,  3, 18, 20, 15])"
      ]
     },
     "execution_count": 151,
     "metadata": {},
     "output_type": "execute_result"
    }
   ],
   "source": [
    "board"
   ]
  },
  {
   "cell_type": "markdown",
   "metadata": {},
   "source": [
    "# PART 2"
   ]
  },
  {
   "cell_type": "code",
   "execution_count": 177,
   "metadata": {},
   "outputs": [],
   "source": [
    "numbers, boards = prepare_dataset('04_test-input.txt')"
   ]
  },
  {
   "cell_type": "code",
   "execution_count": 192,
   "metadata": {},
   "outputs": [],
   "source": [
    "def play_bingo_last(numbers, boards):\n",
    "    marks = [np.zeros_like(board) for board in boards]\n",
    "    bingo_winners = set()\n",
    "    for n in numbers:\n",
    "        for idx in range(0, len(boards)):\n",
    "            mask = boards[idx] == n\n",
    "            marks[idx][mask] = 1\n",
    "            if is_bingo(marks[idx]):\n",
    "                bingo_winners.add(idx) #set je list unique el\n",
    "                if len(bingo_winners) == len(boards):\n",
    "                    unused_numbers_mask = marks[idx] == 0\n",
    "                    return sum(boards[idx][unused_numbers_mask])* n"
   ]
  },
  {
   "cell_type": "code",
   "execution_count": 193,
   "metadata": {},
   "outputs": [
    {
     "data": {
      "text/plain": [
       "1924"
      ]
     },
     "execution_count": 193,
     "metadata": {},
     "output_type": "execute_result"
    }
   ],
   "source": [
    "play_bingo_last(numbers, boards)"
   ]
  }
 ],
 "metadata": {
  "interpreter": {
   "hash": "b8488343e509b415c98a857491a9b4c90395f9a45992da0bb6102fdf120e22ce"
  },
  "kernelspec": {
   "display_name": "Python 3.9.6 32-bit",
   "language": "python",
   "name": "python3"
  },
  "language_info": {
   "codemirror_mode": {
    "name": "ipython",
    "version": 3
   },
   "file_extension": ".py",
   "mimetype": "text/x-python",
   "name": "python",
   "nbconvert_exporter": "python",
   "pygments_lexer": "ipython3",
   "version": "3.9.6"
  },
  "orig_nbformat": 4
 },
 "nbformat": 4,
 "nbformat_minor": 2
}
