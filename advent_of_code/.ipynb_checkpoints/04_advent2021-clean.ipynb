{
 "cells": [
  {
   "cell_type": "markdown",
   "metadata": {},
   "source": [
    "# part 1"
   ]
  },
  {
   "cell_type": "code",
   "execution_count": 1,
   "metadata": {},
   "outputs": [],
   "source": [
    "import pandas as pd\n",
    "import numpy as np\n",
    "import re"
   ]
  },
  {
   "cell_type": "code",
   "execution_count": 2,
   "metadata": {},
   "outputs": [],
   "source": [
    "def prepare_dataset(filename):\n",
    "    numbers_str, *boards_str = open(filename).read().split('\\n\\n')\n",
    "    numbers = np.array(numbers_str.split(','), dtype= 'int')\n",
    "    boards = [np.array([re.split('\\s+', el.strip()) for el in temp.split('\\n')], dtype='int') for temp in boards_str]\n",
    "    return numbers, boards"
   ]
  },
  {
   "cell_type": "code",
   "execution_count": 7,
   "metadata": {},
   "outputs": [],
   "source": [
    "numbers, boards = prepare_dataset('04_input.txt')"
   ]
  },
  {
   "cell_type": "code",
   "execution_count": 8,
   "metadata": {},
   "outputs": [],
   "source": [
    "def is_bingo(matrix):\n",
    "    if any(np.all(matrix, axis=0)) or any(np.all(matrix, axis=1)):\n",
    "        return True\n",
    "    else:\n",
    "        return False"
   ]
  },
  {
   "cell_type": "code",
   "execution_count": 9,
   "metadata": {},
   "outputs": [],
   "source": [
    "def play_bingo(numbers, boards):\n",
    "    marks = [np.zeros_like(board) for board in boards]\n",
    "    for n in numbers:\n",
    "        for idx in range(0, len(boards)):\n",
    "            mask = boards[idx] == n\n",
    "            marks[idx][mask] = 1\n",
    "            if is_bingo(marks[idx]):\n",
    "                unused_numbers_mask = marks[idx] == 0\n",
    "                return sum(boards[idx][unused_numbers_mask])*n"
   ]
  },
  {
   "cell_type": "code",
   "execution_count": 10,
   "metadata": {},
   "outputs": [
    {
     "data": {
      "text/plain": [
       "35670"
      ]
     },
     "execution_count": 10,
     "metadata": {},
     "output_type": "execute_result"
    }
   ],
   "source": [
    "play_bingo(numbers, boards)"
   ]
  },
  {
   "cell_type": "markdown",
   "metadata": {},
   "source": [
    "# part 2"
   ]
  },
  {
   "cell_type": "code",
   "execution_count": 11,
   "metadata": {},
   "outputs": [],
   "source": [
    "def play_bingo_last(numbers, boards):\n",
    "    marks = [np.zeros_like(board) for board in boards]\n",
    "    bingo_winners = set()\n",
    "    for n in numbers:\n",
    "        for idx in range(0, len(boards)):\n",
    "            mask = boards[idx] == n\n",
    "            marks[idx][mask] = 1\n",
    "            if is_bingo(marks[idx]):\n",
    "                bingo_winners.add(idx) #set je list unique el\n",
    "                if len(bingo_winners) == len(boards):\n",
    "                    unused_numbers_mask = marks[idx] == 0\n",
    "                    return sum(boards[idx][unused_numbers_mask])* n"
   ]
  },
  {
   "cell_type": "code",
   "execution_count": 12,
   "metadata": {},
   "outputs": [
    {
     "data": {
      "text/plain": [
       "22704"
      ]
     },
     "execution_count": 12,
     "metadata": {},
     "output_type": "execute_result"
    }
   ],
   "source": [
    "play_bingo_last(numbers, boards)"
   ]
  }
 ],
 "metadata": {
  "interpreter": {
   "hash": "b8488343e509b415c98a857491a9b4c90395f9a45992da0bb6102fdf120e22ce"
  },
  "kernelspec": {
   "display_name": "Python 3.9.6 32-bit",
   "language": "python",
   "name": "python3"
  },
  "language_info": {
   "codemirror_mode": {
    "name": "ipython",
    "version": 3
   },
   "file_extension": ".py",
   "mimetype": "text/x-python",
   "name": "python",
   "nbconvert_exporter": "python",
   "pygments_lexer": "ipython3",
   "version": "3.9.6"
  },
  "orig_nbformat": 4
 },
 "nbformat": 4,
 "nbformat_minor": 2
}
